{
 "cells": [
  {
   "cell_type": "markdown",
   "metadata": {},
   "source": [
    "# Validation of IDSP dataset\n",
    "## as scraped from the published .pdf files\n",
    "\n",
    "__BLUF:__\n",
    "\n",
    "This notebook aims to quantify the discrepency between the disease outbreak data scraped from pdf files using idsp_parser.py and the disease outbreak data that is published.\n",
    "\n",
    "\n",
    "__NOTES:__\n",
    "\n",
    "IDSP is the integrated disease surveillance programme of india (idsp.nic.in). It publishes weekly reports on outbreaks of communicable diseases in the form of PDF files. These are inconsistently formatted.\n",
    "\n",
    "The pipeline for scraping data is `.pdfs --> pdftotext() --> .txts --> idsp_parser.py() --> .csv`. Issues can occur both in pdftotext and idsp_parser.py\n",
    "\n",
    "__VALIDATION TESTS:__\n",
    "\n",
    "To validate the data, we have to compare the scraped data with ground truths. However, the complete original data is not available, that is the whole point of this exercise. Below is the list of checks I can think of.\n",
    "\n",
    "* Number of outbreaks per year\n",
    "* Manually parsed week vs computer parsed week\n",
    "* Total cases per disease\n",
    "* "
   ]
  },
  {
   "cell_type": "code",
   "execution_count": 1,
   "metadata": {},
   "outputs": [
    {
     "name": "stdout",
     "output_type": "stream",
     "text": [
      "* \u001b[32mdev\u001b[m\n",
      "  master\u001b[m\n"
     ]
    }
   ],
   "source": [
    "!git branch"
   ]
  },
  {
   "cell_type": "markdown",
   "metadata": {},
   "source": [
    "idsp_parser relies on the file structure to identify whether files are pre or post 2016. This is key as the format changed in 2016 (for the better)"
   ]
  },
  {
   "cell_type": "markdown",
   "metadata": {},
   "source": [
    "# Run idsp_parser.py"
   ]
  },
  {
   "cell_type": "code",
   "execution_count": 2,
   "metadata": {},
   "outputs": [
    {
     "name": "stdout",
     "output_type": "stream",
     "text": [
      "534\n",
      "total number of outbreaks 17551\n",
      "number of pre2016 outbreaks 10510\n",
      "number of post2016 outbreaks 7041\n",
      "  0%|                                                 | 0/17551 [00:00<?, ?it/s]\n",
      "Traceback (most recent call last):\n",
      "  File \"idsp_parser.py\", line 251, in <module>\n",
      "    outbreaks.loc[i] = outbreak_parser(raw)\n",
      "  File \"/users/rsg/anla/anaconda3/envs/geospatial/lib/python3.7/site-packages/pandas/core/indexing.py\", line 205, in __setitem__\n",
      "    self._setitem_with_indexer(indexer, value)\n",
      "  File \"/users/rsg/anla/anaconda3/envs/geospatial/lib/python3.7/site-packages/pandas/core/indexing.py\", line 406, in _setitem_with_indexer\n",
      "    return self._setitem_with_indexer_missing(indexer, value)\n",
      "  File \"/users/rsg/anla/anaconda3/envs/geospatial/lib/python3.7/site-packages/pandas/core/indexing.py\", line 647, in _setitem_with_indexer_missing\n",
      "    raise ValueError(\"cannot set a row with mismatched columns\")\n",
      "ValueError: cannot set a row with mismatched columns\n"
     ]
    }
   ],
   "source": [
    "!python3 idsp_parser.py /users/rsg/anla/podcast/country_disease_outbreaks/india/idsp_reporting/idsp_raw_txts/"
   ]
  },
  {
   "cell_type": "code",
   "execution_count": 3,
   "metadata": {
    "scrolled": true
   },
   "outputs": [
    {
     "name": "stdout",
     "output_type": "stream",
     "text": [
      "# amateur log files for parsing errors"
     ]
    }
   ],
   "source": [
    "cat err_log.txt"
   ]
  },
  {
   "cell_type": "markdown",
   "metadata": {},
   "source": [
    "# Validation tests"
   ]
  },
  {
   "cell_type": "code",
   "execution_count": 4,
   "metadata": {},
   "outputs": [],
   "source": [
    "import pandas as pd\n",
    "import geopandas as gpd\n",
    "import scipy as sp\n",
    "from datetime import datetime\n",
    "import matplotlib.pyplot as plt\n",
    "plt.style.use('fivethirtyeight')\n",
    "%matplotlib notebook"
   ]
  },
  {
   "cell_type": "markdown",
   "metadata": {},
   "source": [
    "load the scraped data"
   ]
  },
  {
   "cell_type": "code",
   "execution_count": 5,
   "metadata": {},
   "outputs": [
    {
     "data": {
      "text/plain": [
       "(17551, 12)"
      ]
     },
     "execution_count": 5,
     "metadata": {},
     "output_type": "execute_result"
    }
   ],
   "source": [
    "df = pd.read_csv(\"IDSP_data.csv\")\n",
    "df.shape"
   ]
  },
  {
   "cell_type": "markdown",
   "metadata": {},
   "source": [
    "## Check how much is missing"
   ]
  },
  {
   "cell_type": "code",
   "execution_count": 6,
   "metadata": {},
   "outputs": [
    {
     "name": "stdout",
     "output_type": "stream",
     "text": [
      "Unnamed: 0\n",
      "ID_code\n",
      "state\n",
      "district\n",
      "disease\n",
      "cases\n",
      "deaths\n",
      "start_date\n",
      "report_date\n",
      "status\n",
      "comments\n",
      "raw\n"
     ]
    },
    {
     "name": "stderr",
     "output_type": "stream",
     "text": [
      "/users/rsg/anla/anaconda3/envs/geospatial/lib/python3.7/site-packages/pandas/core/ops/__init__.py:1115: FutureWarning: elementwise comparison failed; returning scalar instead, but in the future will perform elementwise comparison\n",
      "  result = method(y)\n"
     ]
    }
   ],
   "source": [
    "missing_dict = {}\n",
    "for col in df.columns:\n",
    "    print(col)\n",
    "    missing_dict[col] = df[df[col] == '?'].shape[0]"
   ]
  },
  {
   "cell_type": "code",
   "execution_count": 7,
   "metadata": {},
   "outputs": [
    {
     "data": {
      "image/png": "[encoded data removed]",
      "text/plain": [
       "<Figure size 432x288 with 1 Axes>"
      ]
     },
     "metadata": {
      "needs_background": "light"
     },
     "output_type": "display_data"
    }
   ],
   "source": [
    "plt.figure()\n",
    "pd.Series(missing_dict).plot.bar(title='# number of record with missing field')\n",
    "plt.xlabel('field')\n",
    "plt.ylabel('# gaps')\n",
    "plt.tight_layout()\n",
    "plt.show()"
   ]
  },
  {
   "cell_type": "code",
   "execution_count": 8,
   "metadata": {},
   "outputs": [],
   "source": [
    "records_completeness = []\n",
    "for row in df.index:\n",
    "    row_completeness = 0\n",
    "    for col in df.columns:\n",
    "        if df.loc[row][col] != '?':\n",
    "            row_completeness += 1\n",
    "\n",
    "    records_completeness.append(row_completeness)"
   ]
  },
  {
   "cell_type": "code",
   "execution_count": 9,
   "metadata": {},
   "outputs": [
    {
     "data": {
      "text/plain": [
       "Text(1.9350000000000023, 0.5, '# records')"
      ]
     },
     "execution_count": 9,
     "metadata": {},
     "output_type": "execute_result"
    },
    {
     "data": {
      "image/png": "[encoded data removed]",
      "text/plain": [
       "<Figure size 432x288 with 1 Axes>"
      ]
     },
     "metadata": {
      "needs_background": "light"
     },
     "output_type": "display_data"
    }
   ],
   "source": [
    "plt.hist(records_completeness,align='mid')\n",
    "plt.tight_layout()\n",
    "plt.xlabel('# complete fields / 12')\n",
    "plt.ylabel('# records')"
   ]
  },
  {
   "cell_type": "markdown",
   "metadata": {},
   "source": [
    "## Yearly outbreak check sum\n",
    "\n",
    "Compare yearly outbreak numbers with scraped outbreak numbers. How many of the outbreaks did we manage to obtain"
   ]
  },
  {
   "cell_type": "code",
   "execution_count": 10,
   "metadata": {},
   "outputs": [],
   "source": [
    "df.start_date = pd.to_datetime(df.start_date, errors='coerce')"
   ]
  },
  {
   "cell_type": "code",
   "execution_count": 11,
   "metadata": {},
   "outputs": [
    {
     "name": "stdout",
     "output_type": "stream",
     "text": [
      "{'2009': 799, '2010': 990, '2011': 1675, '2012': 1584, '2013': 1964, '2014': 1564, '2015': 1935, '2016': 2675, '2017': 1714, '2018': 0, '2019': 0}\n",
      "pre 2016 total outbreaks =  10511\n",
      "post 2016 total outbreaks =  4389\n"
     ]
    }
   ],
   "source": [
    "outbreak_year_sum = {'2009':799,'2010':990,'2011':1675,'2012':1584,'2013':1964,'2014':1564,'2015':1935,'2016':2675,'2017':1714,'2018':0,'2019':0}\n",
    "print(outbreak_year_sum)\n",
    "pre_2016_total = sp.sum([outbreak_year_sum[a] for a in [k for k in outbreak_year_sum.keys() if int(k) < 2016]])\n",
    "post_2016_total = sp.sum([outbreak_year_sum[a] for a in [k for k in outbreak_year_sum.keys() if int(k) >= 2016]])\n",
    "print('pre 2016 total outbreaks = ',pre_2016_total)\n",
    "print('post 2016 total outbreaks = ',post_2016_total)"
   ]
  },
  {
   "cell_type": "markdown",
   "metadata": {},
   "source": [
    "Convert the start data to a date time object for handling. Failed conversions are turned to `nan`."
   ]
  },
  {
   "cell_type": "code",
   "execution_count": 21,
   "metadata": {},
   "outputs": [
    {
     "name": "stderr",
     "output_type": "stream",
     "text": [
      "/users/rsg/anla/anaconda3/envs/geospatial/lib/python3.7/site-packages/ipykernel_launcher.py:7: RuntimeWarning: divide by zero encountered in long_scalars\n",
      "  import sys\n"
     ]
    }
   ],
   "source": [
    "year_validation = pd.DataFrame(\n",
    "    index=outbreak_year_sum.keys(),\n",
    "    columns=['detected','reported','% accuracy'])\n",
    "\n",
    "for i, y in enumerate(list(outbreak_year_sum.keys())):\n",
    "    detected_cases = df[df.start_date.dt.year == float(y)]['raw'].count()\n",
    "    year_validation.iloc[i] = [detected_cases,outbreak_year_sum[y],detected_cases/outbreak_year_sum[y] * 100]"
   ]
  },
  {
   "cell_type": "code",
   "execution_count": 22,
   "metadata": {},
   "outputs": [
    {
     "data": {
      "text/html": [
       "<div>\n",
       "<style scoped>\n",
       "    .dataframe tbody tr th:only-of-type {\n",
       "        vertical-align: middle;\n",
       "    }\n",
       "\n",
       "    .dataframe tbody tr th {\n",
       "        vertical-align: top;\n",
       "    }\n",
       "\n",
       "    .dataframe thead th {\n",
       "        text-align: right;\n",
       "    }\n",
       "</style>\n",
       "<table border=\"1\" class=\"dataframe\">\n",
       "  <thead>\n",
       "    <tr style=\"text-align: right;\">\n",
       "      <th></th>\n",
       "      <th>detected</th>\n",
       "      <th>reported</th>\n",
       "      <th>% accuracy</th>\n",
       "    </tr>\n",
       "  </thead>\n",
       "  <tbody>\n",
       "    <tr>\n",
       "      <th>2009</th>\n",
       "      <td>484</td>\n",
       "      <td>799</td>\n",
       "      <td>60.5757</td>\n",
       "    </tr>\n",
       "    <tr>\n",
       "      <th>2010</th>\n",
       "      <td>1221</td>\n",
       "      <td>990</td>\n",
       "      <td>123.333</td>\n",
       "    </tr>\n",
       "    <tr>\n",
       "      <th>2011</th>\n",
       "      <td>1826</td>\n",
       "      <td>1675</td>\n",
       "      <td>109.015</td>\n",
       "    </tr>\n",
       "    <tr>\n",
       "      <th>2012</th>\n",
       "      <td>1537</td>\n",
       "      <td>1584</td>\n",
       "      <td>97.0328</td>\n",
       "    </tr>\n",
       "    <tr>\n",
       "      <th>2013</th>\n",
       "      <td>1810</td>\n",
       "      <td>1964</td>\n",
       "      <td>92.1589</td>\n",
       "    </tr>\n",
       "    <tr>\n",
       "      <th>2014</th>\n",
       "      <td>1467</td>\n",
       "      <td>1564</td>\n",
       "      <td>93.798</td>\n",
       "    </tr>\n",
       "    <tr>\n",
       "      <th>2015</th>\n",
       "      <td>2008</td>\n",
       "      <td>1935</td>\n",
       "      <td>103.773</td>\n",
       "    </tr>\n",
       "    <tr>\n",
       "      <th>2016</th>\n",
       "      <td>2618</td>\n",
       "      <td>2675</td>\n",
       "      <td>97.8692</td>\n",
       "    </tr>\n",
       "    <tr>\n",
       "      <th>2017</th>\n",
       "      <td>1694</td>\n",
       "      <td>1714</td>\n",
       "      <td>98.8331</td>\n",
       "    </tr>\n",
       "    <tr>\n",
       "      <th>2018</th>\n",
       "      <td>1543</td>\n",
       "      <td>0</td>\n",
       "      <td>inf</td>\n",
       "    </tr>\n",
       "    <tr>\n",
       "      <th>2019</th>\n",
       "      <td>1135</td>\n",
       "      <td>0</td>\n",
       "      <td>inf</td>\n",
       "    </tr>\n",
       "  </tbody>\n",
       "</table>\n",
       "</div>"
      ],
      "text/plain": [
       "     detected reported % accuracy\n",
       "2009      484      799    60.5757\n",
       "2010     1221      990    123.333\n",
       "2011     1826     1675    109.015\n",
       "2012     1537     1584    97.0328\n",
       "2013     1810     1964    92.1589\n",
       "2014     1467     1564     93.798\n",
       "2015     2008     1935    103.773\n",
       "2016     2618     2675    97.8692\n",
       "2017     1694     1714    98.8331\n",
       "2018     1543        0        inf\n",
       "2019     1135        0        inf"
      ]
     },
     "execution_count": 22,
     "metadata": {},
     "output_type": "execute_result"
    }
   ],
   "source": [
    "year_validation"
   ]
  },
  {
   "cell_type": "code",
   "execution_count": 14,
   "metadata": {},
   "outputs": [
    {
     "data": {
      "image/png": "[encoded data removed]",
      "text/plain": [
       "<Figure size 432x288 with 1 Axes>"
      ]
     },
     "metadata": {
      "needs_background": "light"
     },
     "output_type": "display_data"
    }
   ],
   "source": [
    "year_validation.plot.bar()\n",
    "plt.tight_layout()\n",
    "plt.show()"
   ]
  },
  {
   "cell_type": "markdown",
   "metadata": {},
   "source": [
    "## Check for multiple reports on the same outbreak.\n",
    "\n",
    "Using the duplicates method on the state, district and disease columns we can identify follow up reports. These typically display the cumulative number of cases, rather than the number of new cases. Thus we can expect "
   ]
  },
  {
   "cell_type": "markdown",
   "metadata": {},
   "source": [
    "### Duplicates post 2016"
   ]
  },
  {
   "cell_type": "code",
   "execution_count": 15,
   "metadata": {},
   "outputs": [],
   "source": [
    "# Records sharing the same outbreak ID_code\n",
    "# Keep the highest casualty record\n",
    "ID_duplicates = df[(df.duplicated(\n",
    "    subset='ID_code',\n",
    "    keep=False)) & (df.ID_code != '?')]"
   ]
  },
  {
   "cell_type": "code",
   "execution_count": 25,
   "metadata": {},
   "outputs": [
    {
     "data": {
      "text/html": [
       "<div>\n",
       "<style scoped>\n",
       "    .dataframe tbody tr th:only-of-type {\n",
       "        vertical-align: middle;\n",
       "    }\n",
       "\n",
       "    .dataframe tbody tr th {\n",
       "        vertical-align: top;\n",
       "    }\n",
       "\n",
       "    .dataframe thead th {\n",
       "        text-align: right;\n",
       "    }\n",
       "</style>\n",
       "<table border=\"1\" class=\"dataframe\">\n",
       "  <thead>\n",
       "    <tr style=\"text-align: right;\">\n",
       "      <th></th>\n",
       "      <th>Unnamed: 0</th>\n",
       "      <th>ID_code</th>\n",
       "      <th>state</th>\n",
       "      <th>district</th>\n",
       "      <th>disease</th>\n",
       "      <th>cases</th>\n",
       "      <th>deaths</th>\n",
       "      <th>start_date</th>\n",
       "      <th>report_date</th>\n",
       "      <th>status</th>\n",
       "      <th>comments</th>\n",
       "      <th>raw</th>\n",
       "    </tr>\n",
       "  </thead>\n",
       "  <tbody>\n",
       "    <tr>\n",
       "      <th>11302</th>\n",
       "      <td>11302</td>\n",
       "      <td>AR/ESN/2019/28/0822</td>\n",
       "      <td>Arunachal Pradesh</td>\n",
       "      <td>East Siang</td>\n",
       "      <td>Chikungunya</td>\n",
       "      <td>83</td>\n",
       "      <td>00</td>\n",
       "      <td>2019-07-07</td>\n",
       "      <td>?</td>\n",
       "      <td>Under Surveillance</td>\n",
       "      <td>[' A total of 21 cases were reported in 28th w...</td>\n",
       "      <td>AR/ESN/2019/28/0822 Arunachal Pradesh East Sia...</td>\n",
       "    </tr>\n",
       "    <tr>\n",
       "      <th>11513</th>\n",
       "      <td>11513</td>\n",
       "      <td>AR/ESN/2019/28/0822</td>\n",
       "      <td>Arunachal Pradesh</td>\n",
       "      <td>East Siang</td>\n",
       "      <td>Chikungunya</td>\n",
       "      <td>21</td>\n",
       "      <td>00</td>\n",
       "      <td>2019-07-07</td>\n",
       "      <td>14-07-19</td>\n",
       "      <td>Under Surveillance</td>\n",
       "      <td>[' Cases reported from Pasighat Town. District...</td>\n",
       "      <td>AR/ESN/2019/28/0822 Arunachal Pradesh East Sia...</td>\n",
       "    </tr>\n",
       "    <tr>\n",
       "      <th>12951</th>\n",
       "      <td>12951</td>\n",
       "      <td>AR/TRP/2016/52/2659</td>\n",
       "      <td>Arunachal Pradesh</td>\n",
       "      <td>Tirap</td>\n",
       "      <td>Measles</td>\n",
       "      <td>09</td>\n",
       "      <td>00</td>\n",
       "      <td>2016-12-29</td>\n",
       "      <td>29-12-16</td>\n",
       "      <td>Under Surveillance</td>\n",
       "      <td>[' Cases reported from Village Khonsa Bank Col...</td>\n",
       "      <td>AR/TRP/2016/52/2659 Arunachal Pradesh Tirap Me...</td>\n",
       "    </tr>\n",
       "    <tr>\n",
       "      <th>15996</th>\n",
       "      <td>15996</td>\n",
       "      <td>AR/SAG/2017/8/0210</td>\n",
       "      <td>Arunachal Pradesh</td>\n",
       "      <td>West Siang</td>\n",
       "      <td>?</td>\n",
       "      <td>06</td>\n",
       "      <td>00</td>\n",
       "      <td>2017-02-20</td>\n",
       "      <td>21-02-17</td>\n",
       "      <td>Under Surveillance</td>\n",
       "      <td>[' Cases reported from Village Riew under Riew...</td>\n",
       "      <td>AR/SAG/2017/8/0210 Arunachal Pradesh Siang Fev...</td>\n",
       "    </tr>\n",
       "    <tr>\n",
       "      <th>12232</th>\n",
       "      <td>12232</td>\n",
       "      <td>AS/JRT/2016/25/1453</td>\n",
       "      <td>Assam</td>\n",
       "      <td>Jorhat</td>\n",
       "      <td>Cholera</td>\n",
       "      <td>11</td>\n",
       "      <td>00</td>\n",
       "      <td>2016-06-19</td>\n",
       "      <td>29-06-16</td>\n",
       "      <td>Under Surveillance</td>\n",
       "      <td>[' Cases reported from Village Duklongia TE, S...</td>\n",
       "      <td>AS/JRT/2016/25/1453 Assam Jorhat Cholera 11 00...</td>\n",
       "    </tr>\n",
       "    <tr>\n",
       "      <th>...</th>\n",
       "      <td>...</td>\n",
       "      <td>...</td>\n",
       "      <td>...</td>\n",
       "      <td>...</td>\n",
       "      <td>...</td>\n",
       "      <td>...</td>\n",
       "      <td>...</td>\n",
       "      <td>...</td>\n",
       "      <td>...</td>\n",
       "      <td>...</td>\n",
       "      <td>...</td>\n",
       "      <td>...</td>\n",
       "    </tr>\n",
       "    <tr>\n",
       "      <th>15224</th>\n",
       "      <td>15224</td>\n",
       "      <td>WB/SPG/2016/9/0443</td>\n",
       "      <td>West Bengal</td>\n",
       "      <td>South 24 Parganas</td>\n",
       "      <td>Measles</td>\n",
       "      <td>87</td>\n",
       "      <td>00</td>\n",
       "      <td>2016-05-03</td>\n",
       "      <td>05-03-16</td>\n",
       "      <td>Under Surveillance</td>\n",
       "      <td>[' Cases reported from Village/SC Bishnupur, G...</td>\n",
       "      <td>WB/SPG/2016/9/0443 West Bengal South 24 Pargan...</td>\n",
       "    </tr>\n",
       "    <tr>\n",
       "      <th>11883</th>\n",
       "      <td>11883</td>\n",
       "      <td>WB/NCP/2016/24/1434</td>\n",
       "      <td>West Bengal</td>\n",
       "      <td>South 24 Parganas</td>\n",
       "      <td>Dengue</td>\n",
       "      <td>598</td>\n",
       "      <td>00</td>\n",
       "      <td>2016-10-06</td>\n",
       "      <td>14-06-16</td>\n",
       "      <td>Under Surveillance</td>\n",
       "      <td>[' Cases reported from Ward No. – 8,10,23,24, ...</td>\n",
       "      <td>WB/NCP/2016/24/1434 West Bengal North 24 Parga...</td>\n",
       "    </tr>\n",
       "    <tr>\n",
       "      <th>12912</th>\n",
       "      <td>12912</td>\n",
       "      <td>WB/NCP/2017/32/1192</td>\n",
       "      <td>West Bengal</td>\n",
       "      <td>South 24 Parganas</td>\n",
       "      <td>Dengue</td>\n",
       "      <td>387</td>\n",
       "      <td>00</td>\n",
       "      <td>2017-01-08</td>\n",
       "      <td>?</td>\n",
       "      <td>Under Surveillance</td>\n",
       "      <td>[' Cases reported from Ward No. - 12, 13, Madh...</td>\n",
       "      <td>WB/NCP/2017/32/1192 West Bengal North 24 Parga...</td>\n",
       "    </tr>\n",
       "    <tr>\n",
       "      <th>15983</th>\n",
       "      <td>15983</td>\n",
       "      <td>WB/PRL/2017/7/0196</td>\n",
       "      <td>West Bengal</td>\n",
       "      <td>South 24 Parganas</td>\n",
       "      <td>Chickenpox</td>\n",
       "      <td>41</td>\n",
       "      <td>00</td>\n",
       "      <td>2017-01-23</td>\n",
       "      <td>23-01-17</td>\n",
       "      <td>Under Control</td>\n",
       "      <td>[' Cases reported from Village/SC Hutmura, Ham...</td>\n",
       "      <td>WB/PRL/2017/7/0196 West Bengal Purulia Chicken...</td>\n",
       "    </tr>\n",
       "    <tr>\n",
       "      <th>17070</th>\n",
       "      <td>17070</td>\n",
       "      <td>WB/MLD/2017/38/1394</td>\n",
       "      <td>West Bengal</td>\n",
       "      <td>South 24 Parganas</td>\n",
       "      <td>Chikungunya</td>\n",
       "      <td>493</td>\n",
       "      <td>00</td>\n",
       "      <td>2017-09-07</td>\n",
       "      <td>?</td>\n",
       "      <td>Under Surveillance</td>\n",
       "      <td>[' Cases reported from Villagea Baro and Choto...</td>\n",
       "      <td>WB/MLD/2017/38/1394 West Bengal Malda Dengue a...</td>\n",
       "    </tr>\n",
       "  </tbody>\n",
       "</table>\n",
       "<p>173 rows × 12 columns</p>\n",
       "</div>"
      ],
      "text/plain": [
       "       Unnamed: 0              ID_code              state           district  \\\n",
       "11302       11302  AR/ESN/2019/28/0822  Arunachal Pradesh         East Siang   \n",
       "11513       11513  AR/ESN/2019/28/0822  Arunachal Pradesh         East Siang   \n",
       "12951       12951  AR/TRP/2016/52/2659  Arunachal Pradesh              Tirap   \n",
       "15996       15996   AR/SAG/2017/8/0210  Arunachal Pradesh         West Siang   \n",
       "12232       12232  AS/JRT/2016/25/1453              Assam             Jorhat   \n",
       "...           ...                  ...                ...                ...   \n",
       "15224       15224   WB/SPG/2016/9/0443        West Bengal  South 24 Parganas   \n",
       "11883       11883  WB/NCP/2016/24/1434        West Bengal  South 24 Parganas   \n",
       "12912       12912  WB/NCP/2017/32/1192        West Bengal  South 24 Parganas   \n",
       "15983       15983   WB/PRL/2017/7/0196        West Bengal  South 24 Parganas   \n",
       "17070       17070  WB/MLD/2017/38/1394        West Bengal  South 24 Parganas   \n",
       "\n",
       "           disease cases deaths start_date report_date              status  \\\n",
       "11302  Chikungunya    83     00 2019-07-07           ?  Under Surveillance   \n",
       "11513  Chikungunya    21     00 2019-07-07    14-07-19  Under Surveillance   \n",
       "12951      Measles    09     00 2016-12-29    29-12-16  Under Surveillance   \n",
       "15996            ?    06     00 2017-02-20    21-02-17  Under Surveillance   \n",
       "12232      Cholera    11     00 2016-06-19    29-06-16  Under Surveillance   \n",
       "...            ...   ...    ...        ...         ...                 ...   \n",
       "15224      Measles    87     00 2016-05-03    05-03-16  Under Surveillance   \n",
       "11883       Dengue   598     00 2016-10-06    14-06-16  Under Surveillance   \n",
       "12912       Dengue   387     00 2017-01-08           ?  Under Surveillance   \n",
       "15983   Chickenpox    41     00 2017-01-23    23-01-17       Under Control   \n",
       "17070  Chikungunya   493     00 2017-09-07           ?  Under Surveillance   \n",
       "\n",
       "                                                comments  \\\n",
       "11302  [' A total of 21 cases were reported in 28th w...   \n",
       "11513  [' Cases reported from Pasighat Town. District...   \n",
       "12951  [' Cases reported from Village Khonsa Bank Col...   \n",
       "15996  [' Cases reported from Village Riew under Riew...   \n",
       "12232  [' Cases reported from Village Duklongia TE, S...   \n",
       "...                                                  ...   \n",
       "15224  [' Cases reported from Village/SC Bishnupur, G...   \n",
       "11883  [' Cases reported from Ward No. – 8,10,23,24, ...   \n",
       "12912  [' Cases reported from Ward No. - 12, 13, Madh...   \n",
       "15983  [' Cases reported from Village/SC Hutmura, Ham...   \n",
       "17070  [' Cases reported from Villagea Baro and Choto...   \n",
       "\n",
       "                                                     raw  \n",
       "11302  AR/ESN/2019/28/0822 Arunachal Pradesh East Sia...  \n",
       "11513  AR/ESN/2019/28/0822 Arunachal Pradesh East Sia...  \n",
       "12951  AR/TRP/2016/52/2659 Arunachal Pradesh Tirap Me...  \n",
       "15996  AR/SAG/2017/8/0210 Arunachal Pradesh Siang Fev...  \n",
       "12232  AS/JRT/2016/25/1453 Assam Jorhat Cholera 11 00...  \n",
       "...                                                  ...  \n",
       "15224  WB/SPG/2016/9/0443 West Bengal South 24 Pargan...  \n",
       "11883  WB/NCP/2016/24/1434 West Bengal North 24 Parga...  \n",
       "12912  WB/NCP/2017/32/1192 West Bengal North 24 Parga...  \n",
       "15983  WB/PRL/2017/7/0196 West Bengal Purulia Chicken...  \n",
       "17070  WB/MLD/2017/38/1394 West Bengal Malda Dengue a...  \n",
       "\n",
       "[173 rows x 12 columns]"
      ]
     },
     "execution_count": 25,
     "metadata": {},
     "output_type": "execute_result"
    }
   ],
   "source": [
    "ID_duplicates.sort_values(['state','district','start_date'])"
   ]
  },
  {
   "cell_type": "markdown",
   "metadata": {},
   "source": [
    "As the follow up reports have cumulative number of cases. Pick the record with greatest number of cases for each duplicated ID_code.\n",
    "\n",
    "__NOW NEED TO INSERT THESE RECORDS INSTEAD OF THE DUPLICATES?__"
   ]
  },
  {
   "cell_type": "code",
   "execution_count": 17,
   "metadata": {},
   "outputs": [
    {
     "data": {
      "text/html": [
       "<div>\n",
       "<style scoped>\n",
       "    .dataframe tbody tr th:only-of-type {\n",
       "        vertical-align: middle;\n",
       "    }\n",
       "\n",
       "    .dataframe tbody tr th {\n",
       "        vertical-align: top;\n",
       "    }\n",
       "\n",
       "    .dataframe thead th {\n",
       "        text-align: right;\n",
       "    }\n",
       "</style>\n",
       "<table border=\"1\" class=\"dataframe\">\n",
       "  <thead>\n",
       "    <tr style=\"text-align: right;\">\n",
       "      <th></th>\n",
       "      <th>ID_code</th>\n",
       "      <th>cases</th>\n",
       "      <th>deaths</th>\n",
       "    </tr>\n",
       "  </thead>\n",
       "  <tbody>\n",
       "    <tr>\n",
       "      <th>0</th>\n",
       "      <td>AR/ESN/2019/28/0822</td>\n",
       "      <td>83</td>\n",
       "      <td>00</td>\n",
       "    </tr>\n",
       "    <tr>\n",
       "      <th>1</th>\n",
       "      <td>AR/SAG/2017/8/0210</td>\n",
       "      <td>17</td>\n",
       "      <td>00</td>\n",
       "    </tr>\n",
       "    <tr>\n",
       "      <th>2</th>\n",
       "      <td>AR/TRP/2016/52/2659</td>\n",
       "      <td>?</td>\n",
       "      <td>?</td>\n",
       "    </tr>\n",
       "    <tr>\n",
       "      <th>3</th>\n",
       "      <td>AR/WKM/2016/45/2497</td>\n",
       "      <td>23</td>\n",
       "      <td>00</td>\n",
       "    </tr>\n",
       "    <tr>\n",
       "      <th>4</th>\n",
       "      <td>AS/JRT/2016/25/1453</td>\n",
       "      <td>17</td>\n",
       "      <td>00</td>\n",
       "    </tr>\n",
       "    <tr>\n",
       "      <th>...</th>\n",
       "      <td>...</td>\n",
       "      <td>...</td>\n",
       "      <td>...</td>\n",
       "    </tr>\n",
       "    <tr>\n",
       "      <th>71</th>\n",
       "      <td>WB/PRL/2017/7/0196</td>\n",
       "      <td>79</td>\n",
       "      <td>00</td>\n",
       "    </tr>\n",
       "    <tr>\n",
       "      <th>72</th>\n",
       "      <td>WB/PRL/2018/31/1133</td>\n",
       "      <td>651</td>\n",
       "      <td>00</td>\n",
       "    </tr>\n",
       "    <tr>\n",
       "      <th>73</th>\n",
       "      <td>WB/SPG/2016/10/0529</td>\n",
       "      <td>111</td>\n",
       "      <td>00</td>\n",
       "    </tr>\n",
       "    <tr>\n",
       "      <th>74</th>\n",
       "      <td>WB/SPG/2016/14/0750</td>\n",
       "      <td>52</td>\n",
       "      <td>00</td>\n",
       "    </tr>\n",
       "    <tr>\n",
       "      <th>75</th>\n",
       "      <td>WB/SPG/2016/9/0443</td>\n",
       "      <td>87</td>\n",
       "      <td>00</td>\n",
       "    </tr>\n",
       "  </tbody>\n",
       "</table>\n",
       "<p>76 rows × 3 columns</p>\n",
       "</div>"
      ],
      "text/plain": [
       "                ID_code cases deaths\n",
       "0   AR/ESN/2019/28/0822    83     00\n",
       "1    AR/SAG/2017/8/0210    17     00\n",
       "2   AR/TRP/2016/52/2659     ?      ?\n",
       "3   AR/WKM/2016/45/2497    23     00\n",
       "4   AS/JRT/2016/25/1453    17     00\n",
       "..                  ...   ...    ...\n",
       "71   WB/PRL/2017/7/0196    79     00\n",
       "72  WB/PRL/2018/31/1133   651     00\n",
       "73  WB/SPG/2016/10/0529   111     00\n",
       "74  WB/SPG/2016/14/0750    52     00\n",
       "75   WB/SPG/2016/9/0443    87     00\n",
       "\n",
       "[76 rows x 3 columns]"
      ]
     },
     "execution_count": 17,
     "metadata": {},
     "output_type": "execute_result"
    }
   ],
   "source": [
    "ID_duplicates.groupby(['ID_code'],as_index=False)['cases','deaths'].max()"
   ]
  },
  {
   "cell_type": "markdown",
   "metadata": {},
   "source": [
    "### Duplicates pre 2016 reforms"
   ]
  },
  {
   "cell_type": "code",
   "execution_count": 18,
   "metadata": {},
   "outputs": [
    {
     "data": {
      "text/html": [
       "<div>\n",
       "<style scoped>\n",
       "    .dataframe tbody tr th:only-of-type {\n",
       "        vertical-align: middle;\n",
       "    }\n",
       "\n",
       "    .dataframe tbody tr th {\n",
       "        vertical-align: top;\n",
       "    }\n",
       "\n",
       "    .dataframe thead th {\n",
       "        text-align: right;\n",
       "    }\n",
       "</style>\n",
       "<table border=\"1\" class=\"dataframe\">\n",
       "  <thead>\n",
       "    <tr style=\"text-align: right;\">\n",
       "      <th></th>\n",
       "      <th>state</th>\n",
       "      <th>district</th>\n",
       "      <th>disease</th>\n",
       "      <th>cases</th>\n",
       "      <th>raw</th>\n",
       "    </tr>\n",
       "    <tr>\n",
       "      <th>start_date</th>\n",
       "      <th></th>\n",
       "      <th></th>\n",
       "      <th></th>\n",
       "      <th></th>\n",
       "      <th></th>\n",
       "    </tr>\n",
       "  </thead>\n",
       "  <tbody>\n",
       "    <tr>\n",
       "      <th>NaT</th>\n",
       "      <td>NCT of Delhi</td>\n",
       "      <td>West</td>\n",
       "      <td>Acute Diarrhoeal Disease</td>\n",
       "      <td>2</td>\n",
       "      <td>3 2 2 1 1 1  1 0 20 40 60  80 100 120 140 160 ...</td>\n",
       "    </tr>\n",
       "    <tr>\n",
       "      <th>NaT</th>\n",
       "      <td>Andhra Pradesh</td>\n",
       "      <td>West Godavari</td>\n",
       "      <td>Acute Diarrhoeal Disease</td>\n",
       "      <td>43</td>\n",
       "      <td>43 23 17 19 11  12 5 5 2 2 1 3 1 1 1 0 50 10...</td>\n",
       "    </tr>\n",
       "    <tr>\n",
       "      <th>NaT</th>\n",
       "      <td>NCT of Delhi</td>\n",
       "      <td>West</td>\n",
       "      <td>Acute Diarrhoeal Disease</td>\n",
       "      <td>2</td>\n",
       "      <td>4 2 2 1 1 1  1 0 20 40 60  80 100 120 140 160 ...</td>\n",
       "    </tr>\n",
       "    <tr>\n",
       "      <th>2010-03-31</th>\n",
       "      <td>Assam</td>\n",
       "      <td>Sonitpur</td>\n",
       "      <td>Malaria</td>\n",
       "      <td>30</td>\n",
       "      <td>Status Comments/ Action taken xvii. Malaria  3...</td>\n",
       "    </tr>\n",
       "    <tr>\n",
       "      <th>2010-03-31</th>\n",
       "      <td>Assam</td>\n",
       "      <td>Sonitpur</td>\n",
       "      <td>Malaria</td>\n",
       "      <td>1112</td>\n",
       "      <td>regarding personal protection measures. Sonitp...</td>\n",
       "    </tr>\n",
       "    <tr>\n",
       "      <th>...</th>\n",
       "      <td>...</td>\n",
       "      <td>...</td>\n",
       "      <td>...</td>\n",
       "      <td>...</td>\n",
       "      <td>...</td>\n",
       "    </tr>\n",
       "    <tr>\n",
       "      <th>2015-08-14</th>\n",
       "      <td>Arunachal Pradesh</td>\n",
       "      <td>West Siang</td>\n",
       "      <td>Dengue</td>\n",
       "      <td>95</td>\n",
       "      <td>Arunachal Pradesh West Siang i. Dengue  95 00 ...</td>\n",
       "    </tr>\n",
       "    <tr>\n",
       "      <th>2015-01-29</th>\n",
       "      <td>Haryana</td>\n",
       "      <td>Panipat</td>\n",
       "      <td>Measles</td>\n",
       "      <td>14</td>\n",
       "      <td>3. Haryana Yamuna Nagar vii. Mumps?  14 0 29/0...</td>\n",
       "    </tr>\n",
       "    <tr>\n",
       "      <th>2015-01-28</th>\n",
       "      <td>Jharkhand</td>\n",
       "      <td>Godda</td>\n",
       "      <td>Measles</td>\n",
       "      <td>23</td>\n",
       "      <td>Health education given. Panipat viii. Measles?...</td>\n",
       "    </tr>\n",
       "    <tr>\n",
       "      <th>2015-01-28</th>\n",
       "      <td>Jharkhand</td>\n",
       "      <td>Godda</td>\n",
       "      <td>Measles</td>\n",
       "      <td>25</td>\n",
       "      <td>4. Jharkhand Jharkhand Godda ix. Measles?  25 ...</td>\n",
       "    </tr>\n",
       "    <tr>\n",
       "      <th>2015-01-29</th>\n",
       "      <td>Haryana</td>\n",
       "      <td>Panipat</td>\n",
       "      <td>Measles</td>\n",
       "      <td>14</td>\n",
       "      <td>1. Haryana Yamuna Nagar i. Mumps  14 0 29/01/1...</td>\n",
       "    </tr>\n",
       "  </tbody>\n",
       "</table>\n",
       "<p>461 rows × 5 columns</p>\n",
       "</div>"
      ],
      "text/plain": [
       "                        state       district                   disease cases  \\\n",
       "start_date                                                                     \n",
       "NaT              NCT of Delhi           West  Acute Diarrhoeal Disease     2   \n",
       "NaT            Andhra Pradesh  West Godavari  Acute Diarrhoeal Disease    43   \n",
       "NaT              NCT of Delhi           West  Acute Diarrhoeal Disease     2   \n",
       "2010-03-31              Assam       Sonitpur                   Malaria    30   \n",
       "2010-03-31              Assam       Sonitpur                   Malaria  1112   \n",
       "...                       ...            ...                       ...   ...   \n",
       "2015-08-14  Arunachal Pradesh     West Siang                    Dengue    95   \n",
       "2015-01-29            Haryana        Panipat                   Measles    14   \n",
       "2015-01-28          Jharkhand          Godda                   Measles    23   \n",
       "2015-01-28          Jharkhand          Godda                   Measles    25   \n",
       "2015-01-29            Haryana        Panipat                   Measles    14   \n",
       "\n",
       "                                                          raw  \n",
       "start_date                                                     \n",
       "NaT         3 2 2 1 1 1  1 0 20 40 60  80 100 120 140 160 ...  \n",
       "NaT           43 23 17 19 11  12 5 5 2 2 1 3 1 1 1 0 50 10...  \n",
       "NaT         4 2 2 1 1 1  1 0 20 40 60  80 100 120 140 160 ...  \n",
       "2010-03-31  Status Comments/ Action taken xvii. Malaria  3...  \n",
       "2010-03-31  regarding personal protection measures. Sonitp...  \n",
       "...                                                       ...  \n",
       "2015-08-14  Arunachal Pradesh West Siang i. Dengue  95 00 ...  \n",
       "2015-01-29  3. Haryana Yamuna Nagar vii. Mumps?  14 0 29/0...  \n",
       "2015-01-28  Health education given. Panipat viii. Measles?...  \n",
       "2015-01-28  4. Jharkhand Jharkhand Godda ix. Measles?  25 ...  \n",
       "2015-01-29  1. Haryana Yamuna Nagar i. Mumps  14 0 29/01/1...  \n",
       "\n",
       "[461 rows x 5 columns]"
      ]
     },
     "execution_count": 18,
     "metadata": {},
     "output_type": "execute_result"
    }
   ],
   "source": [
    "df[(df.duplicated(\n",
    "    subset=['state','district','disease','start_date'],\n",
    "    keep=False)) & (df.ID_code == '?') & (df.disease != '?') & (df.cases != '?')].set_index('start_date')[['state','district','disease','cases','raw']]"
   ]
  },
  {
   "cell_type": "markdown",
   "metadata": {},
   "source": [
    "### District set"
   ]
  },
  {
   "cell_type": "code",
   "execution_count": 19,
   "metadata": {},
   "outputs": [
    {
     "data": {
      "text/plain": [
       "591"
      ]
     },
     "execution_count": 19,
     "metadata": {},
     "output_type": "execute_result"
    }
   ],
   "source": [
    "len(list(set(df.district)))"
   ]
  },
  {
   "cell_type": "markdown",
   "metadata": {},
   "source": [
    "Compare by year"
   ]
  },
  {
   "cell_type": "code",
   "execution_count": null,
   "metadata": {},
   "outputs": [],
   "source": []
  },
  {
   "cell_type": "markdown",
   "metadata": {},
   "source": [
    "## Date errors\n",
    "\n",
    "Records have errenous dates due to misspelling and backward ordering when manually inputting the data."
   ]
  },
  {
   "cell_type": "code",
   "execution_count": 20,
   "metadata": {},
   "outputs": [
    {
     "ename": "NameError",
     "evalue": "name 'df_1' is not defined",
     "output_type": "error",
     "traceback": [
      "\u001b[0;31m---------------------------------------------------------------------------\u001b[0m",
      "\u001b[0;31mNameError\u001b[0m                                 Traceback (most recent call last)",
      "\u001b[0;32m<ipython-input-20-8abbab54db95>\u001b[0m in \u001b[0;36m<module>\u001b[0;34m\u001b[0m\n\u001b[1;32m      6\u001b[0m         \u001b[0mlabel\u001b[0m\u001b[0;34m=\u001b[0m\u001b[0;34m'offical'\u001b[0m\u001b[0;34m\u001b[0m\u001b[0;34m\u001b[0m\u001b[0m\n\u001b[1;32m      7\u001b[0m        )\n\u001b[0;32m----> 8\u001b[0;31m plt.bar(x=sp.array(df.groupby(df_1.start_date.dt.year).count().index)+0.2,\n\u001b[0m\u001b[1;32m      9\u001b[0m         \u001b[0mheight\u001b[0m\u001b[0;34m=\u001b[0m\u001b[0mdf\u001b[0m\u001b[0;34m.\u001b[0m\u001b[0mgroupby\u001b[0m\u001b[0;34m(\u001b[0m\u001b[0mdf_1\u001b[0m\u001b[0;34m.\u001b[0m\u001b[0mstart_date\u001b[0m\u001b[0;34m.\u001b[0m\u001b[0mdt\u001b[0m\u001b[0;34m.\u001b[0m\u001b[0myear\u001b[0m\u001b[0;34m)\u001b[0m\u001b[0;34m.\u001b[0m\u001b[0mcount\u001b[0m\u001b[0;34m(\u001b[0m\u001b[0;34m)\u001b[0m\u001b[0;34m[\u001b[0m\u001b[0;34m'raw'\u001b[0m\u001b[0;34m]\u001b[0m\u001b[0;34m.\u001b[0m\u001b[0mvalues\u001b[0m\u001b[0;34m,\u001b[0m\u001b[0;34m\u001b[0m\u001b[0;34m\u001b[0m\u001b[0m\n\u001b[1;32m     10\u001b[0m         \u001b[0mwidth\u001b[0m\u001b[0;34m=\u001b[0m\u001b[0;36m0.4\u001b[0m\u001b[0;34m,\u001b[0m\u001b[0;34m\u001b[0m\u001b[0;34m\u001b[0m\u001b[0m\n",
      "\u001b[0;31mNameError\u001b[0m: name 'df_1' is not defined"
     ]
    },
    {
     "data": {
      "image/png": "[encoded data removed]",
      "text/plain": [
       "<Figure size 432x288 with 1 Axes>"
      ]
     },
     "metadata": {
      "needs_background": "light"
     },
     "output_type": "display_data"
    }
   ],
   "source": [
    "plt.figure()\n",
    "plt.bar(x=sp.array(list(outbreak_year_sum.keys())).astype(int)-0.2,\n",
    "        height=outbreak_year_sum.values(),\n",
    "        width= 0.4,\n",
    "        color='red',\n",
    "        label='offical'\n",
    "       )\n",
    "plt.bar(x=sp.array(df.groupby(df_1.start_date.dt.year).count().index)+0.2,\n",
    "        height=df.groupby(df_1.start_date.dt.year).count()['raw'].values,\n",
    "        width=0.4,\n",
    "        color='blue',\n",
    "        label='detected'\n",
    "       )\n",
    "\n",
    "\n",
    "plt.xticks(range(2001,2021),rotation='vertical')\n",
    "plt.ylabel('Number of outbreaks')\n",
    "plt.xlabel('Year')\n",
    "plt.tight_layout()\n",
    "plt.legend()\n",
    "plt.show()"
   ]
  },
  {
   "cell_type": "markdown",
   "metadata": {},
   "source": [
    "__Outbreak number validation.__ The total number of outbreaks per year is published for 2008-2017. However individual reports in PDF are only available from 01-09-2009. This chart shows the number of outbreaks we detect vs the official number. This is a measure of how accurate the automatic record reading routine `idsp_parser.py` is.\n",
    "\n",
    "Sources of error include data entry errors, such as incorrect date ordering, YYMMDD instead of DDMMYY. Such errors result in incorrect dates, hence the range of years plotted extends beyond the expected 2009-2019. Another source of error is the follow up reporting and dates entered in the form \"01 January 2010\", which causes the routine to fail to detect the record."
   ]
  },
  {
   "cell_type": "code",
   "execution_count": null,
   "metadata": {},
   "outputs": [],
   "source": [
    "plt.figure()\n",
    "\n",
    "# for year in list(set(df_1.dropna().start_date.dt.year)):\n",
    "for year in range(2009,2019):\n",
    "    plt.hist(df[df_1.start_date.dt.year == year].index,\n",
    "             bins=100,\n",
    "             alpha=0.2,\n",
    "             label=str(year)\n",
    "            )\n",
    "\n",
    "plt.xlabel('pandas index')\n",
    "plt.ylabel('# outbreaks')\n",
    "plt.legend(loc='upper right')\n",
    "plt.tight_layout()\n",
    "plt.show()"
   ]
  },
  {
   "cell_type": "markdown",
   "metadata": {},
   "source": [
    "__Caption.__ This histogram plot shows the number of outbreaks by index location and coloured by year. As the dataframe is populated by walking through the directories blocked out years indicate colocated files. This works for those files with a file name inidcative of their year which enabled their filing in a /year directory structure. Some post 2016 files were not named correctly and result in a mixed up area. This doesn't hurt us though due to how records are parsed.\n",
    "\n",
    "Rogue outbreaks can be due to manual errors when entering data. For example backwards dates result in incorrect dates."
   ]
  },
  {
   "cell_type": "markdown",
   "metadata": {},
   "source": [
    "in 2010 the last record is in the wrong date because a human put the date in backwards.... The index number should reflect these anomalies."
   ]
  },
  {
   "cell_type": "markdown",
   "metadata": {},
   "source": [
    "only 12 out of 12187 do not have dates. These are typos or months by text name\n",
    "\n",
    "76 with dates failed to convert to date time"
   ]
  },
  {
   "cell_type": "markdown",
   "metadata": {},
   "source": [
    "Total outbreaks reported in 2008-2017 are reported. However the daily resolution data is only available from 09/2009 so it is highly likely the low accuracy on record detection in 2009 is due to only seeing a handful of months from that year."
   ]
  },
  {
   "cell_type": "markdown",
   "metadata": {},
   "source": [
    "Accuracy >100% suggests that the record finding is matching to headers or repeat, followup reports.\n",
    "\n",
    "We can cull invalid records by finding those lines with missing information"
   ]
  },
  {
   "cell_type": "code",
   "execution_count": null,
   "metadata": {},
   "outputs": [],
   "source": [
    "year_validation.plot(y='% accuracy')"
   ]
  },
  {
   "cell_type": "code",
   "execution_count": null,
   "metadata": {},
   "outputs": [],
   "source": [
    "set(df.disease)"
   ]
  },
  {
   "cell_type": "code",
   "execution_count": 29,
   "metadata": {},
   "outputs": [
    {
     "data": {
      "text/plain": [
       "Unnamed: 0     401\n",
       "ID_code        401\n",
       "state          401\n",
       "district       401\n",
       "disease        401\n",
       "cases          401\n",
       "deaths         401\n",
       "start_date     400\n",
       "report_date    401\n",
       "status         401\n",
       "comments       401\n",
       "raw            401\n",
       "dtype: int64"
      ]
     },
     "execution_count": 29,
     "metadata": {},
     "output_type": "execute_result"
    }
   ],
   "source": [
    "df[df.disease == 'Cholera'].count()"
   ]
  },
  {
   "cell_type": "code",
   "execution_count": null,
   "metadata": {},
   "outputs": [],
   "source": []
  }
 ],
 "metadata": {
  "kernelspec": {
   "display_name": "Python 3",
   "language": "python",
   "name": "python3"
  },
  "language_info": {
   "codemirror_mode": {
    "name": "ipython",
    "version": 3
   },
   "file_extension": ".py",
   "mimetype": "text/x-python",
   "name": "python",
   "nbconvert_exporter": "python",
   "pygments_lexer": "ipython3",
   "version": "3.7.5"
  }
 },
 "nbformat": 4,
 "nbformat_minor": 4
}
