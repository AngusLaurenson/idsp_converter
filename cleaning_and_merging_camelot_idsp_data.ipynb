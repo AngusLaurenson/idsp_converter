{
 "cells": [
  {
   "cell_type": "markdown",
   "metadata": {},
   "source": [
    "# Exploring outbreaks in India using geopandas\n",
    "\n",
    "## Outline\n",
    "\n",
    "In this notebook, the outbreaks of different diseases in India will be explored. Outbreak data by district is merged with the geospatial information of each district to map outbreaks. Furthermore the time evolution of outbreaks can also be mapped.\n",
    "\n",
    "\n",
    "## Background\n",
    "\n",
    "Disease outbreak data for India was downloaded from the [Integrated Disease Surveillance Program](https://idsp.nic.in/) in the form of weekly reports in .pdf format. The dataset spans 2009 to present day and is extracted from the .pdf files using `idsp_parser.py`. It is then merged with district data from [Global Administrative Area Maps](https://gadm.org) to form a _master_ geopandas dataframe which has all the information for plotting."
   ]
  },
  {
   "cell_type": "code",
   "execution_count": 16,
   "metadata": {},
   "outputs": [],
   "source": [
    "import geopandas as gpd\n",
    "import pandas as pd\n",
    "import random\n",
    "import matplotlib.pyplot as plt\n",
    "from matplotlib.colors import SymLogNorm\n",
    "import scipy as sp\n",
    "from datetime import datetime\n",
    "import shapely as sh\n",
    "from fuzzywuzzy import fuzz\n",
    "from tqdm import tqdm\n",
    "import re\n",
    "\n",
    "%matplotlib notebook"
   ]
  },
  {
   "cell_type": "markdown",
   "metadata": {},
   "source": [
    "# Cleaning up the data\n",
    "\n",
    "The IDSP_parser.py program returns a .csv file of outbreaks. However, further processing is required to clean the dataset. These steps are:\n",
    "\n",
    "* Consolidate duplicated reporting\n",
    "* Convert string columns to numeric, datetime and other datatypes\n",
    "* Merging outbreak DataFrame with GeoDataFrame to connect the outbreak data with geospatial information\n",
    "\n",
    "After these basic steps are complete, then the data can be queried and plotted."
   ]
  },
  {
   "cell_type": "code",
   "execution_count": 17,
   "metadata": {},
   "outputs": [],
   "source": [
    "def fuzzy_match(hypotheses, target, thresh=5):\n",
    "    # returns the hypothesis which best matches the target\n",
    "    match = []\n",
    "\n",
    "    # build a list of (score, state) tuples\n",
    "    for h in hypotheses:\n",
    "        match.append((fuzz.token_sort_ratio(h,target), h))\n",
    "\n",
    "    # sort the list of tuples to take the state with highest score\n",
    "    match.sort()\n",
    "    \n",
    "    if match[-1][0] >= thresh:\n",
    "        return match[-1][-1]\n",
    "    elif thresh == None:\n",
    "        return match[-1]\n"
   ]
  },
  {
   "cell_type": "markdown",
   "metadata": {},
   "source": [
    "Lets explore these datasets. _outbreaks_ has text information regarding outbreaks; when, where, what, how many and current status. There is also a comments field which contains potentially useful but unstructured data."
   ]
  },
  {
   "cell_type": "code",
   "execution_count": 18,
   "metadata": {},
   "outputs": [],
   "source": [
    "df = pd.read_csv(\"idsp_database.csv\")\n",
    "shps_GADM_v2 = gpd.read_file('/users/rsg/anla/podcast/country_district_shape_files/INDIA/GADM_IND_v2/IND_adm3.shp')\n",
    "shps_GADM_v3 = gpd.read_file('/users/rsg/anla/podcast/country_district_shape_files/INDIA/GADM_IND_v3/gadm36_IND_3.shp')\n",
    "shps_2011 = gpd.read_file(\"2011_Dist.shp\")\n",
    "shps_2011 = shps_2011.rename(columns={'DISTRICT':'district','ST_NM':'state'})"
   ]
  },
  {
   "cell_type": "code",
   "execution_count": 19,
   "metadata": {},
   "outputs": [
    {
     "data": {
      "text/plain": [
       "{'Acute Diarrheal Disease',\n",
       " 'Acute Encephalitis Syndrome',\n",
       " 'Acute Flaccid Paralysis',\n",
       " 'Acute Respiratory Infection',\n",
       " 'Bacillary Dysentery',\n",
       " 'Chicken Pox',\n",
       " 'Chikungunya',\n",
       " 'Cholera',\n",
       " 'Dengue',\n",
       " 'Diphtheria',\n",
       " 'Dog Bite',\n",
       " 'Enteric Fever',\n",
       " 'Food Poisoning',\n",
       " 'Leptospirosis',\n",
       " 'Malaria',\n",
       " 'Measles',\n",
       " 'Pertussis',\n",
       " 'Typhoid',\n",
       " 'Viral Hepatitis',\n",
       " nan}"
      ]
     },
     "execution_count": 19,
     "metadata": {},
     "output_type": "execute_result"
    }
   ],
   "source": [
    "set(df.disease_illness)"
   ]
  },
  {
   "cell_type": "code",
   "execution_count": 5,
   "metadata": {},
   "outputs": [
    {
     "name": "stdout",
     "output_type": "stream",
     "text": [
      "we have detected 18160 outbreaks\n"
     ]
    }
   ],
   "source": [
    "print('we have detected {} outbreaks'.format(df.shape[0]))"
   ]
  },
  {
   "cell_type": "markdown",
   "metadata": {},
   "source": [
    "Lets check how many outbreak records match sub district level names."
   ]
  },
  {
   "cell_type": "code",
   "execution_count": 6,
   "metadata": {},
   "outputs": [
    {
     "data": {
      "text/plain": [
       "422"
      ]
     },
     "execution_count": 6,
     "metadata": {},
     "output_type": "execute_result"
    }
   ],
   "source": [
    "len(list(set(df.district).intersection(set(shps_GADM_v3.NAME_3))))"
   ]
  },
  {
   "cell_type": "markdown",
   "metadata": {},
   "source": [
    "140 is a lot fo matches, especially since this is a strict match. It should be noted that subdistricts often share the name with the district itself. How many outbreak records match by district. Many of these will be shared with the sub district level count."
   ]
  },
  {
   "cell_type": "code",
   "execution_count": 7,
   "metadata": {},
   "outputs": [
    {
     "data": {
      "text/plain": [
       "559"
      ]
     },
     "execution_count": 7,
     "metadata": {},
     "output_type": "execute_result"
    }
   ],
   "source": [
    "len(list(set(df.district).intersection(set(shps_GADM_v3.NAME_2))))"
   ]
  },
  {
   "cell_type": "markdown",
   "metadata": {},
   "source": [
    "How many match sub-district and do not match district."
   ]
  },
  {
   "cell_type": "code",
   "execution_count": 8,
   "metadata": {
    "scrolled": true
   },
   "outputs": [
    {
     "data": {
      "text/plain": [
       "{'Agar',\n",
       " 'Agartala',\n",
       " 'Balurghat',\n",
       " 'Bara Banki',\n",
       " 'Bareli',\n",
       " 'Basirhat',\n",
       " 'Bhubaneshwar',\n",
       " 'Chevella',\n",
       " 'Cuddapah',\n",
       " 'Davangere',\n",
       " 'Delhi',\n",
       " 'Deogarh',\n",
       " 'Diamond Harbour',\n",
       " 'Gangtok',\n",
       " 'Gondia',\n",
       " 'Gundlupet',\n",
       " 'Haridwar',\n",
       " 'Jagatsinghpur',\n",
       " 'Jahanabad',\n",
       " 'Janjgir',\n",
       " 'Kamareddy',\n",
       " 'Kanchipuram',\n",
       " 'Kangpokpi',\n",
       " 'Kanker',\n",
       " 'Kanpur',\n",
       " 'Kawardha',\n",
       " 'Khandwa',\n",
       " 'Khargon',\n",
       " 'Kollegal',\n",
       " 'Lawngtlai',\n",
       " 'Mangalore',\n",
       " 'Medchal',\n",
       " 'Medinipur',\n",
       " 'Narnaul',\n",
       " 'Nimach',\n",
       " 'Nirmal',\n",
       " 'Nuh',\n",
       " 'Pauri',\n",
       " 'Sibsagar',\n",
       " 'Silvassa',\n",
       " 'Tehri',\n",
       " 'Tengnoupal',\n",
       " 'Tezu',\n",
       " 'Tiruvallur',\n",
       " 'Trichur',\n",
       " 'Trivandrum',\n",
       " 'Tuticorin',\n",
       " 'Vikarabad',\n",
       " 'Vishakhapatnam'}"
      ]
     },
     "execution_count": 8,
     "metadata": {},
     "output_type": "execute_result"
    }
   ],
   "source": [
    "set(df.district).intersection(set(shps_GADM_v3.NAME_3)).difference(set(df.district).intersection(set(shps_GADM_v3.NAME_2)))"
   ]
  },
  {
   "cell_type": "markdown",
   "metadata": {},
   "source": [
    "These are predominantly cities and represent a significant number of records that we can capture by checking against sub-district levels data as each of these in principle correspond to many different outbreaks.\n",
    "\n",
    "We should first check districts against level 3, then level 2, superceeding the first match if the district matches level 2. These check are direct comparisons.\n",
    "\n",
    "States are then matched. If the state is missing, which does occur, then the state should be inferred by the district. However, some districts from different states have the exact same name, in that case the state should not be assumed in the same manner. Instead, after the states are inferred in this way, the remaining missing states can be filled using ffill() or bfill() methods.\n",
    "\n",
    "The first round of direct matching of states and districts should be followed up by a fuzzy matching round. Which matches similar strings. In order to the data to be auditable, the match score and original district should be recorded in new columns\n",
    "\n",
    "```\n",
    "df['district'] ---> df[['district','district_score','original_district']]\n",
    "```\n",
    "\n"
   ]
  },
  {
   "cell_type": "code",
   "execution_count": 9,
   "metadata": {},
   "outputs": [],
   "source": [
    "shps_GADM_v3.NAME_1 = shps_GADM_v3.NAME_1.apply(lambda x:x.title())\n",
    "shps_GADM_v3.NAME_2 = shps_GADM_v3.NAME_2.apply(lambda x:x.title())\n",
    "shps_GADM_v3.NAME_3 = shps_GADM_v3.NAME_3.apply(lambda x:x.title())"
   ]
  },
  {
   "cell_type": "code",
   "execution_count": 10,
   "metadata": {},
   "outputs": [],
   "source": [
    "# create empty columns for filling with level names\n",
    "df['NAME_1'] = None\n",
    "df['NAME_2'] = None\n",
    "df['NAME_3'] = None"
   ]
  },
  {
   "cell_type": "markdown",
   "metadata": {},
   "source": [
    "## Primary direct matching"
   ]
  },
  {
   "cell_type": "code",
   "execution_count": 11,
   "metadata": {},
   "outputs": [],
   "source": [
    "# First check for direct matches,\n",
    "# at sub-district, district and state levels\n",
    "\n",
    "for i, row in df.iterrows():\n",
    "    \n",
    "    # sub district level\n",
    "    if row.district in set(shps_GADM_v3.NAME_3):\n",
    "        temp = shps_GADM_v3[shps_GADM_v3.NAME_3 == row.district].iloc[0]\n",
    "        df.at[i,'NAME_2'] = temp['NAME_2']\n",
    "        df.at[i,'NAME_3'] = temp['NAME_3']\n",
    "        \n",
    "    # superceed at district level\n",
    "    if row.district in set(shps_GADM_v3.NAME_2):\n",
    "        df.at[i,'NAME_2'] = row.district\n",
    "        df.at[i,'NAME_3'] = None\n",
    "    \n",
    "    # match states\n",
    "    if row.state in set(shps_GADM_v3.NAME_1):\n",
    "        temp = shps_GADM_v3[shps_GADM_v3.NAME_2 == row.state]\n",
    "        df.at[i,'NAME_1'] = row.state"
   ]
  },
  {
   "cell_type": "markdown",
   "metadata": {},
   "source": [
    "## Secondary fuzzy matching\n",
    "\n",
    "This process depends on the threshold. Low threshold increases true and false positive rates, low threshold deceases true and false positive rates."
   ]
  },
  {
   "cell_type": "code",
   "execution_count": 12,
   "metadata": {},
   "outputs": [
    {
     "name": "stderr",
     "output_type": "stream",
     "text": [
      "18160it [06:11, 48.88it/s]\n"
     ]
    }
   ],
   "source": [
    "# Fuzzy matching to get the different spellings of same place\n",
    "# For example, Yadgiri --> Yadgir\n",
    "# Default threshold for a match is 95 out of 100\n",
    "for i, row in tqdm(df.iterrows()):\n",
    "    \n",
    "    # sub district level\n",
    "    \n",
    "    if row.NAME_3 == None:\n",
    "#         print('# SUB DISTRICT:')\n",
    "        match = fuzzy_match(shps_GADM_v3.NAME_3, \n",
    "                            row.district,\n",
    "                            thresh=90)\n",
    "#         print(row.district,'---->',match)\n",
    "        df.at[i,'NAME_3'] = match\n",
    "        \n",
    "    # district level\n",
    "    if row.NAME_2 == None:\n",
    "#         print('# DISTRICT:')\n",
    "        match = fuzzy_match(list(set(shps_GADM_v3.NAME_2)), \n",
    "                            row.district,\n",
    "                            thresh=90)\n",
    "#         print(row.district,'---->',match)\n",
    "        df.at[i,'NAME_2'] = match\n",
    "        df.at[i,'NAME_3'] = None\n",
    "\n",
    "    # state level\n",
    "    if row.NAME_1 == None:\n",
    "#         print('# STATE:')\n",
    "        match = fuzzy_match(list(set(shps_GADM_v3.NAME_1)), \n",
    "                            row.state,\n",
    "                            thresh=90)\n",
    "#         print(row.state,'---->',match)\n",
    "        df.at[i,'NAME_1'] = match"
   ]
  },
  {
   "cell_type": "code",
   "execution_count": 13,
   "metadata": {
    "scrolled": false
   },
   "outputs": [
    {
     "data": {
      "text/plain": [
       "'Cases reported from  Village  Ward  no  28, Musahari tola.  District  RRT investigated the outbreak.  House to  house survey  done.  All cases treated symptomatically. Health education given.'"
      ]
     },
     "execution_count": 13,
     "metadata": {},
     "output_type": "execute_result"
    }
   ],
   "source": [
    "df.comment_action_taken[0]"
   ]
  },
  {
   "cell_type": "code",
   "execution_count": 14,
   "metadata": {},
   "outputs": [
    {
     "data": {
      "text/plain": [
       "13316"
      ]
     },
     "execution_count": 14,
     "metadata": {},
     "output_type": "execute_result"
    }
   ],
   "source": [
    "df.NAME_2.count()"
   ]
  },
  {
   "cell_type": "markdown",
   "metadata": {},
   "source": []
  },
  {
   "cell_type": "markdown",
   "metadata": {},
   "source": [
    "# Merge with geospatial"
   ]
  },
  {
   "cell_type": "code",
   "execution_count": 15,
   "metadata": {},
   "outputs": [
    {
     "data": {
      "application/javascript": [
       "/* Put everything inside the global mpl namespace */\n",
       "window.mpl = {};\n",
       "\n",
       "\n",
       "mpl.get_websocket_type = function() {\n",
       "    if (typeof(WebSocket) !== 'undefined') {\n",
       "        return WebSocket;\n",
       "    } else if (typeof(MozWebSocket) !== 'undefined') {\n",
       "        return MozWebSocket;\n",
       "    } else {\n",
       "        alert('Your browser does not have WebSocket support. ' +\n",
       "              'Please try Chrome, Safari or Firefox ≥ 6. ' +\n",
       "              'Firefox 4 and 5 are also supported but you ' +\n",
       "              'have to enable WebSockets in about:config.');\n",
       "    };\n",
       "}\n",
       "\n",
       "mpl.figure = function(figure_id, websocket, ondownload, parent_element) {\n",
       "    this.id = figure_id;\n",
       "\n",
       "    this.ws = websocket;\n",
       "\n",
       "    this.supports_binary = (this.ws.binaryType != undefined);\n",
       "\n",
       "    if (!this.supports_binary) {\n",
       "        var warnings = document.getElementById(\"mpl-warnings\");\n",
       "        if (warnings) {\n",
       "            warnings.style.display = 'block';\n",
       "            warnings.textContent = (\n",
       "                \"This browser does not support binary websocket messages. \" +\n",
       "                    \"Performance may be slow.\");\n",
       "        }\n",
       "    }\n",
       "\n",
       "    this.imageObj = new Image();\n",
       "\n",
       "    this.context = undefined;\n",
       "    this.message = undefined;\n",
       "    this.canvas = undefined;\n",
       "    this.rubberband_canvas = undefined;\n",
       "    this.rubberband_context = undefined;\n",
       "    this.format_dropdown = undefined;\n",
       "\n",
       "    this.image_mode = 'full';\n",
       "\n",
       "    this.root = $('<div/>');\n",
       "    this._root_extra_style(this.root)\n",
       "    this.root.attr('style', 'display: inline-block');\n",
       "\n",
       "    $(parent_element).append(this.root);\n",
       "\n",
       "    this._init_header(this);\n",
       "    this._init_canvas(this);\n",
       "    this._init_toolbar(this);\n",
       "\n",
       "    var fig = this;\n",
       "\n",
       "    this.waiting = false;\n",
       "\n",
       "    this.ws.onopen =  function () {\n",
       "            fig.send_message(\"supports_binary\", {value: fig.supports_binary});\n",
       "            fig.send_message(\"send_image_mode\", {});\n",
       "            if (mpl.ratio != 1) {\n",
       "                fig.send_message(\"set_dpi_ratio\", {'dpi_ratio': mpl.ratio});\n",
       "            }\n",
       "            fig.send_message(\"refresh\", {});\n",
       "        }\n",
       "\n",
       "    this.imageObj.onload = function() {\n",
       "            if (fig.image_mode == 'full') {\n",
       "                // Full images could contain transparency (where diff images\n",
       "                // almost always do), so we need to clear the canvas so that\n",
       "                // there is no ghosting.\n",
       "                fig.context.clearRect(0, 0, fig.canvas.width, fig.canvas.height);\n",
       "            }\n",
       "            fig.context.drawImage(fig.imageObj, 0, 0);\n",
       "        };\n",
       "\n",
       "    this.imageObj.onunload = function() {\n",
       "        fig.ws.close();\n",
       "    }\n",
       "\n",
       "    this.ws.onmessage = this._make_on_message_function(this);\n",
       "\n",
       "    this.ondownload = ondownload;\n",
       "}\n",
       "\n",
       "mpl.figure.prototype._init_header = function() {\n",
       "    var titlebar = $(\n",
       "        '<div class=\"ui-dialog-titlebar ui-widget-header ui-corner-all ' +\n",
       "        'ui-helper-clearfix\"/>');\n",
       "    var titletext = $(\n",
       "        '<div class=\"ui-dialog-title\" style=\"width: 100%; ' +\n",
       "        'text-align: center; padding: 3px;\"/>');\n",
       "    titlebar.append(titletext)\n",
       "    this.root.append(titlebar);\n",
       "    this.header = titletext[0];\n",
       "}\n",
       "\n",
       "\n",
       "\n",
       "mpl.figure.prototype._canvas_extra_style = function(canvas_div) {\n",
       "\n",
       "}\n",
       "\n",
       "\n",
       "mpl.figure.prototype._root_extra_style = function(canvas_div) {\n",
       "\n",
       "}\n",
       "\n",
       "mpl.figure.prototype._init_canvas = function() {\n",
       "    var fig = this;\n",
       "\n",
       "    var canvas_div = $('<div/>');\n",
       "\n",
       "    canvas_div.attr('style', 'position: relative; clear: both; outline: 0');\n",
       "\n",
       "    function canvas_keyboard_event(event) {\n",
       "        return fig.key_event(event, event['data']);\n",
       "    }\n",
       "\n",
       "    canvas_div.keydown('key_press', canvas_keyboard_event);\n",
       "    canvas_div.keyup('key_release', canvas_keyboard_event);\n",
       "    this.canvas_div = canvas_div\n",
       "    this._canvas_extra_style(canvas_div)\n",
       "    this.root.append(canvas_div);\n",
       "\n",
       "    var canvas = $('<canvas/>');\n",
       "    canvas.addClass('mpl-canvas');\n",
       "    canvas.attr('style', \"left: 0; top: 0; z-index: 0; outline: 0\")\n",
       "\n",
       "    this.canvas = canvas[0];\n",
       "    this.context = canvas[0].getContext(\"2d\");\n",
       "\n",
       "    var backingStore = this.context.backingStorePixelRatio ||\n",
       "\tthis.context.webkitBackingStorePixelRatio ||\n",
       "\tthis.context.mozBackingStorePixelRatio ||\n",
       "\tthis.context.msBackingStorePixelRatio ||\n",
       "\tthis.context.oBackingStorePixelRatio ||\n",
       "\tthis.context.backingStorePixelRatio || 1;\n",
       "\n",
       "    mpl.ratio = (window.devicePixelRatio || 1) / backingStore;\n",
       "\n",
       "    var rubberband = $('<canvas/>');\n",
       "    rubberband.attr('style', \"position: absolute; left: 0; top: 0; z-index: 1;\")\n",
       "\n",
       "    var pass_mouse_events = true;\n",
       "\n",
       "    canvas_div.resizable({\n",
       "        start: function(event, ui) {\n",
       "            pass_mouse_events = false;\n",
       "        },\n",
       "        resize: function(event, ui) {\n",
       "            fig.request_resize(ui.size.width, ui.size.height);\n",
       "        },\n",
       "        stop: function(event, ui) {\n",
       "            pass_mouse_events = true;\n",
       "            fig.request_resize(ui.size.width, ui.size.height);\n",
       "        },\n",
       "    });\n",
       "\n",
       "    function mouse_event_fn(event) {\n",
       "        if (pass_mouse_events)\n",
       "            return fig.mouse_event(event, event['data']);\n",
       "    }\n",
       "\n",
       "    rubberband.mousedown('button_press', mouse_event_fn);\n",
       "    rubberband.mouseup('button_release', mouse_event_fn);\n",
       "    // Throttle sequential mouse events to 1 every 20ms.\n",
       "    rubberband.mousemove('motion_notify', mouse_event_fn);\n",
       "\n",
       "    rubberband.mouseenter('figure_enter', mouse_event_fn);\n",
       "    rubberband.mouseleave('figure_leave', mouse_event_fn);\n",
       "\n",
       "    canvas_div.on(\"wheel\", function (event) {\n",
       "        event = event.originalEvent;\n",
       "        event['data'] = 'scroll'\n",
       "        if (event.deltaY < 0) {\n",
       "            event.step = 1;\n",
       "        } else {\n",
       "            event.step = -1;\n",
       "        }\n",
       "        mouse_event_fn(event);\n",
       "    });\n",
       "\n",
       "    canvas_div.append(canvas);\n",
       "    canvas_div.append(rubberband);\n",
       "\n",
       "    this.rubberband = rubberband;\n",
       "    this.rubberband_canvas = rubberband[0];\n",
       "    this.rubberband_context = rubberband[0].getContext(\"2d\");\n",
       "    this.rubberband_context.strokeStyle = \"#000000\";\n",
       "\n",
       "    this._resize_canvas = function(width, height) {\n",
       "        // Keep the size of the canvas, canvas container, and rubber band\n",
       "        // canvas in synch.\n",
       "        canvas_div.css('width', width)\n",
       "        canvas_div.css('height', height)\n",
       "\n",
       "        canvas.attr('width', width * mpl.ratio);\n",
       "        canvas.attr('height', height * mpl.ratio);\n",
       "        canvas.attr('style', 'width: ' + width + 'px; height: ' + height + 'px;');\n",
       "\n",
       "        rubberband.attr('width', width);\n",
       "        rubberband.attr('height', height);\n",
       "    }\n",
       "\n",
       "    // Set the figure to an initial 600x600px, this will subsequently be updated\n",
       "    // upon first draw.\n",
       "    this._resize_canvas(600, 600);\n",
       "\n",
       "    // Disable right mouse context menu.\n",
       "    $(this.rubberband_canvas).bind(\"contextmenu\",function(e){\n",
       "        return false;\n",
       "    });\n",
       "\n",
       "    function set_focus () {\n",
       "        canvas.focus();\n",
       "        canvas_div.focus();\n",
       "    }\n",
       "\n",
       "    window.setTimeout(set_focus, 100);\n",
       "}\n",
       "\n",
       "mpl.figure.prototype._init_toolbar = function() {\n",
       "    var fig = this;\n",
       "\n",
       "    var nav_element = $('<div/>');\n",
       "    nav_element.attr('style', 'width: 100%');\n",
       "    this.root.append(nav_element);\n",
       "\n",
       "    // Define a callback function for later on.\n",
       "    function toolbar_event(event) {\n",
       "        return fig.toolbar_button_onclick(event['data']);\n",
       "    }\n",
       "    function toolbar_mouse_event(event) {\n",
       "        return fig.toolbar_button_onmouseover(event['data']);\n",
       "    }\n",
       "\n",
       "    for(var toolbar_ind in mpl.toolbar_items) {\n",
       "        var name = mpl.toolbar_items[toolbar_ind][0];\n",
       "        var tooltip = mpl.toolbar_items[toolbar_ind][1];\n",
       "        var image = mpl.toolbar_items[toolbar_ind][2];\n",
       "        var method_name = mpl.toolbar_items[toolbar_ind][3];\n",
       "\n",
       "        if (!name) {\n",
       "            // put a spacer in here.\n",
       "            continue;\n",
       "        }\n",
       "        var button = $('<button/>');\n",
       "        button.addClass('ui-button ui-widget ui-state-default ui-corner-all ' +\n",
       "                        'ui-button-icon-only');\n",
       "        button.attr('role', 'button');\n",
       "        button.attr('aria-disabled', 'false');\n",
       "        button.click(method_name, toolbar_event);\n",
       "        button.mouseover(tooltip, toolbar_mouse_event);\n",
       "\n",
       "        var icon_img = $('<span/>');\n",
       "        icon_img.addClass('ui-button-icon-primary ui-icon');\n",
       "        icon_img.addClass(image);\n",
       "        icon_img.addClass('ui-corner-all');\n",
       "\n",
       "        var tooltip_span = $('<span/>');\n",
       "        tooltip_span.addClass('ui-button-text');\n",
       "        tooltip_span.html(tooltip);\n",
       "\n",
       "        button.append(icon_img);\n",
       "        button.append(tooltip_span);\n",
       "\n",
       "        nav_element.append(button);\n",
       "    }\n",
       "\n",
       "    var fmt_picker_span = $('<span/>');\n",
       "\n",
       "    var fmt_picker = $('<select/>');\n",
       "    fmt_picker.addClass('mpl-toolbar-option ui-widget ui-widget-content');\n",
       "    fmt_picker_span.append(fmt_picker);\n",
       "    nav_element.append(fmt_picker_span);\n",
       "    this.format_dropdown = fmt_picker[0];\n",
       "\n",
       "    for (var ind in mpl.extensions) {\n",
       "        var fmt = mpl.extensions[ind];\n",
       "        var option = $(\n",
       "            '<option/>', {selected: fmt === mpl.default_extension}).html(fmt);\n",
       "        fmt_picker.append(option);\n",
       "    }\n",
       "\n",
       "    // Add hover states to the ui-buttons\n",
       "    $( \".ui-button\" ).hover(\n",
       "        function() { $(this).addClass(\"ui-state-hover\");},\n",
       "        function() { $(this).removeClass(\"ui-state-hover\");}\n",
       "    );\n",
       "\n",
       "    var status_bar = $('<span class=\"mpl-message\"/>');\n",
       "    nav_element.append(status_bar);\n",
       "    this.message = status_bar[0];\n",
       "}\n",
       "\n",
       "mpl.figure.prototype.request_resize = function(x_pixels, y_pixels) {\n",
       "    // Request matplotlib to resize the figure. Matplotlib will then trigger a resize in the client,\n",
       "    // which will in turn request a refresh of the image.\n",
       "    this.send_message('resize', {'width': x_pixels, 'height': y_pixels});\n",
       "}\n",
       "\n",
       "mpl.figure.prototype.send_message = function(type, properties) {\n",
       "    properties['type'] = type;\n",
       "    properties['figure_id'] = this.id;\n",
       "    this.ws.send(JSON.stringify(properties));\n",
       "}\n",
       "\n",
       "mpl.figure.prototype.send_draw_message = function() {\n",
       "    if (!this.waiting) {\n",
       "        this.waiting = true;\n",
       "        this.ws.send(JSON.stringify({type: \"draw\", figure_id: this.id}));\n",
       "    }\n",
       "}\n",
       "\n",
       "\n",
       "mpl.figure.prototype.handle_save = function(fig, msg) {\n",
       "    var format_dropdown = fig.format_dropdown;\n",
       "    var format = format_dropdown.options[format_dropdown.selectedIndex].value;\n",
       "    fig.ondownload(fig, format);\n",
       "}\n",
       "\n",
       "\n",
       "mpl.figure.prototype.handle_resize = function(fig, msg) {\n",
       "    var size = msg['size'];\n",
       "    if (size[0] != fig.canvas.width || size[1] != fig.canvas.height) {\n",
       "        fig._resize_canvas(size[0], size[1]);\n",
       "        fig.send_message(\"refresh\", {});\n",
       "    };\n",
       "}\n",
       "\n",
       "mpl.figure.prototype.handle_rubberband = function(fig, msg) {\n",
       "    var x0 = msg['x0'] / mpl.ratio;\n",
       "    var y0 = (fig.canvas.height - msg['y0']) / mpl.ratio;\n",
       "    var x1 = msg['x1'] / mpl.ratio;\n",
       "    var y1 = (fig.canvas.height - msg['y1']) / mpl.ratio;\n",
       "    x0 = Math.floor(x0) + 0.5;\n",
       "    y0 = Math.floor(y0) + 0.5;\n",
       "    x1 = Math.floor(x1) + 0.5;\n",
       "    y1 = Math.floor(y1) + 0.5;\n",
       "    var min_x = Math.min(x0, x1);\n",
       "    var min_y = Math.min(y0, y1);\n",
       "    var width = Math.abs(x1 - x0);\n",
       "    var height = Math.abs(y1 - y0);\n",
       "\n",
       "    fig.rubberband_context.clearRect(\n",
       "        0, 0, fig.canvas.width / mpl.ratio, fig.canvas.height / mpl.ratio);\n",
       "\n",
       "    fig.rubberband_context.strokeRect(min_x, min_y, width, height);\n",
       "}\n",
       "\n",
       "mpl.figure.prototype.handle_figure_label = function(fig, msg) {\n",
       "    // Updates the figure title.\n",
       "    fig.header.textContent = msg['label'];\n",
       "}\n",
       "\n",
       "mpl.figure.prototype.handle_cursor = function(fig, msg) {\n",
       "    var cursor = msg['cursor'];\n",
       "    switch(cursor)\n",
       "    {\n",
       "    case 0:\n",
       "        cursor = 'pointer';\n",
       "        break;\n",
       "    case 1:\n",
       "        cursor = 'default';\n",
       "        break;\n",
       "    case 2:\n",
       "        cursor = 'crosshair';\n",
       "        break;\n",
       "    case 3:\n",
       "        cursor = 'move';\n",
       "        break;\n",
       "    }\n",
       "    fig.rubberband_canvas.style.cursor = cursor;\n",
       "}\n",
       "\n",
       "mpl.figure.prototype.handle_message = function(fig, msg) {\n",
       "    fig.message.textContent = msg['message'];\n",
       "}\n",
       "\n",
       "mpl.figure.prototype.handle_draw = function(fig, msg) {\n",
       "    // Request the server to send over a new figure.\n",
       "    fig.send_draw_message();\n",
       "}\n",
       "\n",
       "mpl.figure.prototype.handle_image_mode = function(fig, msg) {\n",
       "    fig.image_mode = msg['mode'];\n",
       "}\n",
       "\n",
       "mpl.figure.prototype.updated_canvas_event = function() {\n",
       "    // Called whenever the canvas gets updated.\n",
       "    this.send_message(\"ack\", {});\n",
       "}\n",
       "\n",
       "// A function to construct a web socket function for onmessage handling.\n",
       "// Called in the figure constructor.\n",
       "mpl.figure.prototype._make_on_message_function = function(fig) {\n",
       "    return function socket_on_message(evt) {\n",
       "        if (evt.data instanceof Blob) {\n",
       "            /* FIXME: We get \"Resource interpreted as Image but\n",
       "             * transferred with MIME type text/plain:\" errors on\n",
       "             * Chrome.  But how to set the MIME type?  It doesn't seem\n",
       "             * to be part of the websocket stream */\n",
       "            evt.data.type = \"image/png\";\n",
       "\n",
       "            /* Free the memory for the previous frames */\n",
       "            if (fig.imageObj.src) {\n",
       "                (window.URL || window.webkitURL).revokeObjectURL(\n",
       "                    fig.imageObj.src);\n",
       "            }\n",
       "\n",
       "            fig.imageObj.src = (window.URL || window.webkitURL).createObjectURL(\n",
       "                evt.data);\n",
       "            fig.updated_canvas_event();\n",
       "            fig.waiting = false;\n",
       "            return;\n",
       "        }\n",
       "        else if (typeof evt.data === 'string' && evt.data.slice(0, 21) == \"data:image/png;base64\") {\n",
       "            fig.imageObj.src = evt.data;\n",
       "            fig.updated_canvas_event();\n",
       "            fig.waiting = false;\n",
       "            return;\n",
       "        }\n",
       "\n",
       "        var msg = JSON.parse(evt.data);\n",
       "        var msg_type = msg['type'];\n",
       "\n",
       "        // Call the  \"handle_{type}\" callback, which takes\n",
       "        // the figure and JSON message as its only arguments.\n",
       "        try {\n",
       "            var callback = fig[\"handle_\" + msg_type];\n",
       "        } catch (e) {\n",
       "            console.log(\"No handler for the '\" + msg_type + \"' message type: \", msg);\n",
       "            return;\n",
       "        }\n",
       "\n",
       "        if (callback) {\n",
       "            try {\n",
       "                // console.log(\"Handling '\" + msg_type + \"' message: \", msg);\n",
       "                callback(fig, msg);\n",
       "            } catch (e) {\n",
       "                console.log(\"Exception inside the 'handler_\" + msg_type + \"' callback:\", e, e.stack, msg);\n",
       "            }\n",
       "        }\n",
       "    };\n",
       "}\n",
       "\n",
       "// from http://stackoverflow.com/questions/1114465/getting-mouse-location-in-canvas\n",
       "mpl.findpos = function(e) {\n",
       "    //this section is from http://www.quirksmode.org/js/events_properties.html\n",
       "    var targ;\n",
       "    if (!e)\n",
       "        e = window.event;\n",
       "    if (e.target)\n",
       "        targ = e.target;\n",
       "    else if (e.srcElement)\n",
       "        targ = e.srcElement;\n",
       "    if (targ.nodeType == 3) // defeat Safari bug\n",
       "        targ = targ.parentNode;\n",
       "\n",
       "    // jQuery normalizes the pageX and pageY\n",
       "    // pageX,Y are the mouse positions relative to the document\n",
       "    // offset() returns the position of the element relative to the document\n",
       "    var x = e.pageX - $(targ).offset().left;\n",
       "    var y = e.pageY - $(targ).offset().top;\n",
       "\n",
       "    return {\"x\": x, \"y\": y};\n",
       "};\n",
       "\n",
       "/*\n",
       " * return a copy of an object with only non-object keys\n",
       " * we need this to avoid circular references\n",
       " * http://stackoverflow.com/a/24161582/3208463\n",
       " */\n",
       "function simpleKeys (original) {\n",
       "  return Object.keys(original).reduce(function (obj, key) {\n",
       "    if (typeof original[key] !== 'object')\n",
       "        obj[key] = original[key]\n",
       "    return obj;\n",
       "  }, {});\n",
       "}\n",
       "\n",
       "mpl.figure.prototype.mouse_event = function(event, name) {\n",
       "    var canvas_pos = mpl.findpos(event)\n",
       "\n",
       "    if (name === 'button_press')\n",
       "    {\n",
       "        this.canvas.focus();\n",
       "        this.canvas_div.focus();\n",
       "    }\n",
       "\n",
       "    var x = canvas_pos.x * mpl.ratio;\n",
       "    var y = canvas_pos.y * mpl.ratio;\n",
       "\n",
       "    this.send_message(name, {x: x, y: y, button: event.button,\n",
       "                             step: event.step,\n",
       "                             guiEvent: simpleKeys(event)});\n",
       "\n",
       "    /* This prevents the web browser from automatically changing to\n",
       "     * the text insertion cursor when the button is pressed.  We want\n",
       "     * to control all of the cursor setting manually through the\n",
       "     * 'cursor' event from matplotlib */\n",
       "    event.preventDefault();\n",
       "    return false;\n",
       "}\n",
       "\n",
       "mpl.figure.prototype._key_event_extra = function(event, name) {\n",
       "    // Handle any extra behaviour associated with a key event\n",
       "}\n",
       "\n",
       "mpl.figure.prototype.key_event = function(event, name) {\n",
       "\n",
       "    // Prevent repeat events\n",
       "    if (name == 'key_press')\n",
       "    {\n",
       "        if (event.which === this._key)\n",
       "            return;\n",
       "        else\n",
       "            this._key = event.which;\n",
       "    }\n",
       "    if (name == 'key_release')\n",
       "        this._key = null;\n",
       "\n",
       "    var value = '';\n",
       "    if (event.ctrlKey && event.which != 17)\n",
       "        value += \"ctrl+\";\n",
       "    if (event.altKey && event.which != 18)\n",
       "        value += \"alt+\";\n",
       "    if (event.shiftKey && event.which != 16)\n",
       "        value += \"shift+\";\n",
       "\n",
       "    value += 'k';\n",
       "    value += event.which.toString();\n",
       "\n",
       "    this._key_event_extra(event, name);\n",
       "\n",
       "    this.send_message(name, {key: value,\n",
       "                             guiEvent: simpleKeys(event)});\n",
       "    return false;\n",
       "}\n",
       "\n",
       "mpl.figure.prototype.toolbar_button_onclick = function(name) {\n",
       "    if (name == 'download') {\n",
       "        this.handle_save(this, null);\n",
       "    } else {\n",
       "        this.send_message(\"toolbar_button\", {name: name});\n",
       "    }\n",
       "};\n",
       "\n",
       "mpl.figure.prototype.toolbar_button_onmouseover = function(tooltip) {\n",
       "    this.message.textContent = tooltip;\n",
       "};\n",
       "mpl.toolbar_items = [[\"Home\", \"Reset original view\", \"fa fa-home icon-home\", \"home\"], [\"Back\", \"Back to previous view\", \"fa fa-arrow-left icon-arrow-left\", \"back\"], [\"Forward\", \"Forward to next view\", \"fa fa-arrow-right icon-arrow-right\", \"forward\"], [\"\", \"\", \"\", \"\"], [\"Pan\", \"Pan axes with left mouse, zoom with right\", \"fa fa-arrows icon-move\", \"pan\"], [\"Zoom\", \"Zoom to rectangle\", \"fa fa-square-o icon-check-empty\", \"zoom\"], [\"\", \"\", \"\", \"\"], [\"Download\", \"Download plot\", \"fa fa-floppy-o icon-save\", \"download\"]];\n",
       "\n",
       "mpl.extensions = [\"eps\", \"pdf\", \"png\", \"ps\", \"raw\", \"svg\"];\n",
       "\n",
       "mpl.default_extension = \"png\";var comm_websocket_adapter = function(comm) {\n",
       "    // Create a \"websocket\"-like object which calls the given IPython comm\n",
       "    // object with the appropriate methods. Currently this is a non binary\n",
       "    // socket, so there is still some room for performance tuning.\n",
       "    var ws = {};\n",
       "\n",
       "    ws.close = function() {\n",
       "        comm.close()\n",
       "    };\n",
       "    ws.send = function(m) {\n",
       "        //console.log('sending', m);\n",
       "        comm.send(m);\n",
       "    };\n",
       "    // Register the callback with on_msg.\n",
       "    comm.on_msg(function(msg) {\n",
       "        //console.log('receiving', msg['content']['data'], msg);\n",
       "        // Pass the mpl event to the overridden (by mpl) onmessage function.\n",
       "        ws.onmessage(msg['content']['data'])\n",
       "    });\n",
       "    return ws;\n",
       "}\n",
       "\n",
       "mpl.mpl_figure_comm = function(comm, msg) {\n",
       "    // This is the function which gets called when the mpl process\n",
       "    // starts-up an IPython Comm through the \"matplotlib\" channel.\n",
       "\n",
       "    var id = msg.content.data.id;\n",
       "    // Get hold of the div created by the display call when the Comm\n",
       "    // socket was opened in Python.\n",
       "    var element = $(\"#\" + id);\n",
       "    var ws_proxy = comm_websocket_adapter(comm)\n",
       "\n",
       "    function ondownload(figure, format) {\n",
       "        window.open(figure.imageObj.src);\n",
       "    }\n",
       "\n",
       "    var fig = new mpl.figure(id, ws_proxy,\n",
       "                           ondownload,\n",
       "                           element.get(0));\n",
       "\n",
       "    // Call onopen now - mpl needs it, as it is assuming we've passed it a real\n",
       "    // web socket which is closed, not our websocket->open comm proxy.\n",
       "    ws_proxy.onopen();\n",
       "\n",
       "    fig.parent_element = element.get(0);\n",
       "    fig.cell_info = mpl.find_output_cell(\"<div id='\" + id + \"'></div>\");\n",
       "    if (!fig.cell_info) {\n",
       "        console.error(\"Failed to find cell for figure\", id, fig);\n",
       "        return;\n",
       "    }\n",
       "\n",
       "    var output_index = fig.cell_info[2]\n",
       "    var cell = fig.cell_info[0];\n",
       "\n",
       "};\n",
       "\n",
       "mpl.figure.prototype.handle_close = function(fig, msg) {\n",
       "    var width = fig.canvas.width/mpl.ratio\n",
       "    fig.root.unbind('remove')\n",
       "\n",
       "    // Update the output cell to use the data from the current canvas.\n",
       "    fig.push_to_output();\n",
       "    var dataURL = fig.canvas.toDataURL();\n",
       "    // Re-enable the keyboard manager in IPython - without this line, in FF,\n",
       "    // the notebook keyboard shortcuts fail.\n",
       "    IPython.keyboard_manager.enable()\n",
       "    $(fig.parent_element).html('<img src=\"' + dataURL + '\" width=\"' + width + '\">');\n",
       "    fig.close_ws(fig, msg);\n",
       "}\n",
       "\n",
       "mpl.figure.prototype.close_ws = function(fig, msg){\n",
       "    fig.send_message('closing', msg);\n",
       "    // fig.ws.close()\n",
       "}\n",
       "\n",
       "mpl.figure.prototype.push_to_output = function(remove_interactive) {\n",
       "    // Turn the data on the canvas into data in the output cell.\n",
       "    var width = this.canvas.width/mpl.ratio\n",
       "    var dataURL = this.canvas.toDataURL();\n",
       "    this.cell_info[1]['text/html'] = '<img src=\"' + dataURL + '\" width=\"' + width + '\">';\n",
       "}\n",
       "\n",
       "mpl.figure.prototype.updated_canvas_event = function() {\n",
       "    // Tell IPython that the notebook contents must change.\n",
       "    IPython.notebook.set_dirty(true);\n",
       "    this.send_message(\"ack\", {});\n",
       "    var fig = this;\n",
       "    // Wait a second, then push the new image to the DOM so\n",
       "    // that it is saved nicely (might be nice to debounce this).\n",
       "    setTimeout(function () { fig.push_to_output() }, 1000);\n",
       "}\n",
       "\n",
       "mpl.figure.prototype._init_toolbar = function() {\n",
       "    var fig = this;\n",
       "\n",
       "    var nav_element = $('<div/>');\n",
       "    nav_element.attr('style', 'width: 100%');\n",
       "    this.root.append(nav_element);\n",
       "\n",
       "    // Define a callback function for later on.\n",
       "    function toolbar_event(event) {\n",
       "        return fig.toolbar_button_onclick(event['data']);\n",
       "    }\n",
       "    function toolbar_mouse_event(event) {\n",
       "        return fig.toolbar_button_onmouseover(event['data']);\n",
       "    }\n",
       "\n",
       "    for(var toolbar_ind in mpl.toolbar_items){\n",
       "        var name = mpl.toolbar_items[toolbar_ind][0];\n",
       "        var tooltip = mpl.toolbar_items[toolbar_ind][1];\n",
       "        var image = mpl.toolbar_items[toolbar_ind][2];\n",
       "        var method_name = mpl.toolbar_items[toolbar_ind][3];\n",
       "\n",
       "        if (!name) { continue; };\n",
       "\n",
       "        var button = $('<button class=\"btn btn-default\" href=\"#\" title=\"' + name + '\"><i class=\"fa ' + image + ' fa-lg\"></i></button>');\n",
       "        button.click(method_name, toolbar_event);\n",
       "        button.mouseover(tooltip, toolbar_mouse_event);\n",
       "        nav_element.append(button);\n",
       "    }\n",
       "\n",
       "    // Add the status bar.\n",
       "    var status_bar = $('<span class=\"mpl-message\" style=\"text-align:right; float: right;\"/>');\n",
       "    nav_element.append(status_bar);\n",
       "    this.message = status_bar[0];\n",
       "\n",
       "    // Add the close button to the window.\n",
       "    var buttongrp = $('<div class=\"btn-group inline pull-right\"></div>');\n",
       "    var button = $('<button class=\"btn btn-mini btn-primary\" href=\"#\" title=\"Stop Interaction\"><i class=\"fa fa-power-off icon-remove icon-large\"></i></button>');\n",
       "    button.click(function (evt) { fig.handle_close(fig, {}); } );\n",
       "    button.mouseover('Stop Interaction', toolbar_mouse_event);\n",
       "    buttongrp.append(button);\n",
       "    var titlebar = this.root.find($('.ui-dialog-titlebar'));\n",
       "    titlebar.prepend(buttongrp);\n",
       "}\n",
       "\n",
       "mpl.figure.prototype._root_extra_style = function(el){\n",
       "    var fig = this\n",
       "    el.on(\"remove\", function(){\n",
       "\tfig.close_ws(fig, {});\n",
       "    });\n",
       "}\n",
       "\n",
       "mpl.figure.prototype._canvas_extra_style = function(el){\n",
       "    // this is important to make the div 'focusable\n",
       "    el.attr('tabindex', 0)\n",
       "    // reach out to IPython and tell the keyboard manager to turn it's self\n",
       "    // off when our div gets focus\n",
       "\n",
       "    // location in version 3\n",
       "    if (IPython.notebook.keyboard_manager) {\n",
       "        IPython.notebook.keyboard_manager.register_events(el);\n",
       "    }\n",
       "    else {\n",
       "        // location in version 2\n",
       "        IPython.keyboard_manager.register_events(el);\n",
       "    }\n",
       "\n",
       "}\n",
       "\n",
       "mpl.figure.prototype._key_event_extra = function(event, name) {\n",
       "    var manager = IPython.notebook.keyboard_manager;\n",
       "    if (!manager)\n",
       "        manager = IPython.keyboard_manager;\n",
       "\n",
       "    // Check for shift+enter\n",
       "    if (event.shiftKey && event.which == 13) {\n",
       "        this.canvas_div.blur();\n",
       "        event.shiftKey = false;\n",
       "        // Send a \"J\" for go to next cell\n",
       "        event.which = 74;\n",
       "        event.keyCode = 74;\n",
       "        manager.command_mode();\n",
       "        manager.handle_keydown(event);\n",
       "    }\n",
       "}\n",
       "\n",
       "mpl.figure.prototype.handle_save = function(fig, msg) {\n",
       "    fig.ondownload(fig, null);\n",
       "}\n",
       "\n",
       "\n",
       "mpl.find_output_cell = function(html_output) {\n",
       "    // Return the cell and output element which can be found *uniquely* in the notebook.\n",
       "    // Note - this is a bit hacky, but it is done because the \"notebook_saving.Notebook\"\n",
       "    // IPython event is triggered only after the cells have been serialised, which for\n",
       "    // our purposes (turning an active figure into a static one), is too late.\n",
       "    var cells = IPython.notebook.get_cells();\n",
       "    var ncells = cells.length;\n",
       "    for (var i=0; i<ncells; i++) {\n",
       "        var cell = cells[i];\n",
       "        if (cell.cell_type === 'code'){\n",
       "            for (var j=0; j<cell.output_area.outputs.length; j++) {\n",
       "                var data = cell.output_area.outputs[j];\n",
       "                if (data.data) {\n",
       "                    // IPython >= 3 moved mimebundle to data attribute of output\n",
       "                    data = data.data;\n",
       "                }\n",
       "                if (data['text/html'] == html_output) {\n",
       "                    return [cell, data, j];\n",
       "                }\n",
       "            }\n",
       "        }\n",
       "    }\n",
       "}\n",
       "\n",
       "// Register the function which deals with the matplotlib target/channel.\n",
       "// The kernel may be null if the page has been refreshed.\n",
       "if (IPython.notebook.kernel != null) {\n",
       "    IPython.notebook.kernel.comm_manager.register_target('matplotlib', mpl.mpl_figure_comm);\n",
       "}\n"
      ],
      "text/plain": [
       "<IPython.core.display.Javascript object>"
      ]
     },
     "metadata": {},
     "output_type": "display_data"
    },
    {
     "data": {
      "text/html": [
       "<img src=\"data:image/png;base64,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\" width=\"639.9999861283738\">"
      ],
      "text/plain": [
       "<IPython.core.display.HTML object>"
      ]
     },
     "metadata": {},
     "output_type": "display_data"
    },
    {
     "ename": "TypeError",
     "evalue": "'<' not supported between instances of 'str' and 'float'",
     "output_type": "error",
     "traceback": [
      "\u001b[0;31m---------------------------------------------------------------------\u001b[0m",
      "\u001b[0;31mTypeError\u001b[0m                           Traceback (most recent call last)",
      "\u001b[0;32m<ipython-input-15-c8145c31e56e>\u001b[0m in \u001b[0;36m<module>\u001b[0;34m\u001b[0m\n\u001b[1;32m      3\u001b[0m \u001b[0;34m\u001b[0m\u001b[0m\n\u001b[1;32m      4\u001b[0m shps_GADM_v3.merge(df, on=['NAME_1','NAME_2','NAME_3']).plot(column='num_cases',\n\u001b[0;32m----> 5\u001b[0;31m                                                              \u001b[0mcmap\u001b[0m\u001b[0;34m=\u001b[0m\u001b[0;34m'Reds'\u001b[0m\u001b[0;34m\u001b[0m\u001b[0;34m\u001b[0m\u001b[0m\n\u001b[0m\u001b[1;32m      6\u001b[0m                                                             )\n",
      "\u001b[0;32m~/anaconda3/envs/geospatial/lib/python3.7/site-packages/geopandas/geodataframe.py\u001b[0m in \u001b[0;36mplot\u001b[0;34m(self, *args, **kwargs)\u001b[0m\n\u001b[1;32m    604\u001b[0m         \u001b[0;32mfrom\u001b[0m \u001b[0mthere\u001b[0m\u001b[0;34m.\u001b[0m\u001b[0;34m\u001b[0m\u001b[0;34m\u001b[0m\u001b[0m\n\u001b[1;32m    605\u001b[0m         \"\"\"\n\u001b[0;32m--> 606\u001b[0;31m         \u001b[0;32mreturn\u001b[0m \u001b[0mplot_dataframe\u001b[0m\u001b[0;34m(\u001b[0m\u001b[0mself\u001b[0m\u001b[0;34m,\u001b[0m \u001b[0;34m*\u001b[0m\u001b[0margs\u001b[0m\u001b[0;34m,\u001b[0m \u001b[0;34m**\u001b[0m\u001b[0mkwargs\u001b[0m\u001b[0;34m)\u001b[0m\u001b[0;34m\u001b[0m\u001b[0;34m\u001b[0m\u001b[0m\n\u001b[0m\u001b[1;32m    607\u001b[0m \u001b[0;34m\u001b[0m\u001b[0m\n\u001b[1;32m    608\u001b[0m     \u001b[0mplot\u001b[0m\u001b[0;34m.\u001b[0m\u001b[0m__doc__\u001b[0m \u001b[0;34m=\u001b[0m \u001b[0mplot_dataframe\u001b[0m\u001b[0;34m.\u001b[0m\u001b[0m__doc__\u001b[0m\u001b[0;34m\u001b[0m\u001b[0;34m\u001b[0m\u001b[0m\n",
      "\u001b[0;32m~/anaconda3/envs/geospatial/lib/python3.7/site-packages/geopandas/plotting.py\u001b[0m in \u001b[0;36mplot_dataframe\u001b[0;34m(df, column, cmap, color, ax, cax, categorical, legend, scheme, k, vmin, vmax, markersize, figsize, legend_kwds, classification_kwds, **style_kwds)\u001b[0m\n\u001b[1;32m    522\u001b[0m             \u001b[0mcmap\u001b[0m \u001b[0;34m=\u001b[0m \u001b[0;34m\"tab10\"\u001b[0m\u001b[0;34m\u001b[0m\u001b[0;34m\u001b[0m\u001b[0m\n\u001b[1;32m    523\u001b[0m         \u001b[0mcategories\u001b[0m \u001b[0;34m=\u001b[0m \u001b[0mlist\u001b[0m\u001b[0;34m(\u001b[0m\u001b[0mset\u001b[0m\u001b[0;34m(\u001b[0m\u001b[0mvalues\u001b[0m\u001b[0;34m)\u001b[0m\u001b[0;34m)\u001b[0m\u001b[0;34m\u001b[0m\u001b[0;34m\u001b[0m\u001b[0m\n\u001b[0;32m--> 524\u001b[0;31m         \u001b[0mcategories\u001b[0m\u001b[0;34m.\u001b[0m\u001b[0msort\u001b[0m\u001b[0;34m(\u001b[0m\u001b[0;34m)\u001b[0m\u001b[0;34m\u001b[0m\u001b[0;34m\u001b[0m\u001b[0m\n\u001b[0m\u001b[1;32m    525\u001b[0m         \u001b[0mvaluemap\u001b[0m \u001b[0;34m=\u001b[0m \u001b[0mdict\u001b[0m\u001b[0;34m(\u001b[0m\u001b[0;34m(\u001b[0m\u001b[0mk\u001b[0m\u001b[0;34m,\u001b[0m \u001b[0mv\u001b[0m\u001b[0;34m)\u001b[0m \u001b[0;32mfor\u001b[0m \u001b[0;34m(\u001b[0m\u001b[0mv\u001b[0m\u001b[0;34m,\u001b[0m \u001b[0mk\u001b[0m\u001b[0;34m)\u001b[0m \u001b[0;32min\u001b[0m \u001b[0menumerate\u001b[0m\u001b[0;34m(\u001b[0m\u001b[0mcategories\u001b[0m\u001b[0;34m)\u001b[0m\u001b[0;34m)\u001b[0m\u001b[0;34m\u001b[0m\u001b[0;34m\u001b[0m\u001b[0m\n\u001b[1;32m    526\u001b[0m         \u001b[0mvalues\u001b[0m \u001b[0;34m=\u001b[0m \u001b[0mnp\u001b[0m\u001b[0;34m.\u001b[0m\u001b[0marray\u001b[0m\u001b[0;34m(\u001b[0m\u001b[0;34m[\u001b[0m\u001b[0mvaluemap\u001b[0m\u001b[0;34m[\u001b[0m\u001b[0mk\u001b[0m\u001b[0;34m]\u001b[0m \u001b[0;32mfor\u001b[0m \u001b[0mk\u001b[0m \u001b[0;32min\u001b[0m \u001b[0mvalues\u001b[0m\u001b[0;34m]\u001b[0m\u001b[0;34m)\u001b[0m\u001b[0;34m\u001b[0m\u001b[0;34m\u001b[0m\u001b[0m\n",
      "\u001b[0;31mTypeError\u001b[0m: '<' not supported between instances of 'str' and 'float'"
     ]
    }
   ],
   "source": [
    "# Plot the number of cases of outbreaks\n",
    "# localised to a sub-district\n",
    "\n",
    "shps_GADM_v3.merge(df, on=['NAME_1','NAME_2','NAME_3']).plot(column='num_cases',\n",
    "                                                             cmap='Reds'\n",
    "                                                            )"
   ]
  },
  {
   "cell_type": "code",
   "execution_count": null,
   "metadata": {},
   "outputs": [],
   "source": [
    "df.date_of_reporting.fillna('')\n",
    "\n",
    "for i, row in df.iterrows():\n",
    "    try:\n",
    "        # split cases / deaths column\n",
    "        # use regex to extract digits\n",
    "#         cases, deaths = row.num_cases.split('/')\n",
    "        cases, deaths = re.findall('\\d+',row.num_cases)\n",
    "        # shuffle right dates to correct columns\n",
    "        date_outbreak = row.num_deaths\n",
    "        date_reporting = row.date_of_start_of_outbreak\n",
    "\n",
    "        for j, var in enumerate(['num_cases',\n",
    "                    'num_deaths',\n",
    "                    'date_of_start_of_outbreak',\n",
    "                    'date_of_reporting'\n",
    "                   ]):\n",
    "            df.at[i,var] = [int(cases),int(deaths),date_outbreak,date_reporting][j]\n",
    "    except:\n",
    "        pass\n",
    "\n",
    "# set columns to type integer\n",
    "def extract_digits(x):\n",
    "    try:\n",
    "        return re.findall('\\d+',x)[0]\n",
    "    except:\n",
    "        return x\n",
    "\n",
    "df[['num_cases','num_deaths']] = df[['num_cases','num_deaths']].apply(extract_digits)"
   ]
  },
  {
   "cell_type": "code",
   "execution_count": null,
   "metadata": {},
   "outputs": [],
   "source": [
    "# Plot the number of cases of outbreaks\n",
    "# localised to a district\n",
    "\n",
    "district_level = shps_GADM_v3.dissolve(by=['NAME_1','NAME_2'])"
   ]
  },
  {
   "cell_type": "code",
   "execution_count": null,
   "metadata": {},
   "outputs": [],
   "source": [
    "district_level = district_level.merge(df, on=['NAME_1','NAME_2'])"
   ]
  },
  {
   "cell_type": "code",
   "execution_count": null,
   "metadata": {},
   "outputs": [],
   "source": [
    "district_level.num_cases = pd.to_numeric(district_level.num_cases, errors='coerce')"
   ]
  },
  {
   "cell_type": "code",
   "execution_count": null,
   "metadata": {},
   "outputs": [],
   "source": [
    "district_level = district_level.dissolve(by=['disease_illness','NAME_1','NAME_2'], aggfunc='sum')"
   ]
  },
  {
   "cell_type": "code",
   "execution_count": null,
   "metadata": {},
   "outputs": [],
   "source": [
    "district_level.loc['Cholera']"
   ]
  },
  {
   "cell_type": "code",
   "execution_count": null,
   "metadata": {},
   "outputs": [],
   "source": [
    "district_level.plot(column='num_cases',cmap='Blues',vmax=1000)"
   ]
  },
  {
   "cell_type": "markdown",
   "metadata": {},
   "source": [
    "# `### TAIL OF CURRENT WORKFLOW ###`"
   ]
  },
  {
   "cell_type": "code",
   "execution_count": null,
   "metadata": {},
   "outputs": [],
   "source": []
  },
  {
   "cell_type": "code",
   "execution_count": null,
   "metadata": {},
   "outputs": [],
   "source": []
  },
  {
   "cell_type": "code",
   "execution_count": null,
   "metadata": {},
   "outputs": [],
   "source": []
  },
  {
   "cell_type": "code",
   "execution_count": null,
   "metadata": {},
   "outputs": [],
   "source": []
  },
  {
   "cell_type": "code",
   "execution_count": 30,
   "metadata": {},
   "outputs": [
    {
     "data": {
      "text/plain": [
       "0       05\n",
       "1       12\n",
       "2       07\n",
       "3       06\n",
       "4       12\n",
       "      ... \n",
       "429    113\n",
       "430     35\n",
       "431     35\n",
       "432     22\n",
       "433     19\n",
       "Name: num_cases, Length: 434, dtype: object"
      ]
     },
     "execution_count": 30,
     "metadata": {},
     "output_type": "execute_result"
    }
   ],
   "source": [
    "df.num_cases"
   ]
  },
  {
   "cell_type": "code",
   "execution_count": null,
   "metadata": {},
   "outputs": [],
   "source": []
  },
  {
   "cell_type": "code",
   "execution_count": null,
   "metadata": {},
   "outputs": [],
   "source": []
  },
  {
   "cell_type": "code",
   "execution_count": null,
   "metadata": {},
   "outputs": [],
   "source": []
  },
  {
   "cell_type": "code",
   "execution_count": null,
   "metadata": {},
   "outputs": [],
   "source": []
  },
  {
   "cell_type": "code",
   "execution_count": null,
   "metadata": {},
   "outputs": [],
   "source": []
  },
  {
   "cell_type": "code",
   "execution_count": null,
   "metadata": {},
   "outputs": [],
   "source": []
  },
  {
   "cell_type": "code",
   "execution_count": null,
   "metadata": {},
   "outputs": [],
   "source": []
  },
  {
   "cell_type": "code",
   "execution_count": null,
   "metadata": {},
   "outputs": [],
   "source": []
  },
  {
   "cell_type": "code",
   "execution_count": null,
   "metadata": {},
   "outputs": [],
   "source": []
  },
  {
   "cell_type": "code",
   "execution_count": null,
   "metadata": {},
   "outputs": [],
   "source": []
  },
  {
   "cell_type": "code",
   "execution_count": null,
   "metadata": {},
   "outputs": [],
   "source": [
    "\n",
    "# for backfilling missing state values from the district\n",
    "district_state_dict = {}\n",
    "for d in shps_2011[['state','district']].values:\n",
    "    district_state_dict[d[1]] = d[0]\n",
    "\n",
    "print('census 2011 districts')\n",
    "district_names = set(shps.district); print(len(district_names))\n",
    "print('census 2011 state')\n",
    "state_names = set(shps.state); print(len(state_names))\n",
    "\n",
    "print('df districts')\n",
    "print(len(list(set(df.district))))\n",
    "\n",
    "with open('disease_names.txt','r') as f:\n",
    "    disease_names = f.read().split('\\n')"
   ]
  },
  {
   "cell_type": "code",
   "execution_count": null,
   "metadata": {},
   "outputs": [],
   "source": [
    "set(df.title)"
   ]
  },
  {
   "cell_type": "code",
   "execution_count": null,
   "metadata": {},
   "outputs": [],
   "source": [
    "district_names = list(district_names)\n",
    "district_names.sort()"
   ]
  },
  {
   "cell_type": "code",
   "execution_count": null,
   "metadata": {
    "scrolled": true
   },
   "outputs": [],
   "source": [
    "df_dist = [str(a) for a in list(set(df.district))]\n",
    "df_dist.sort()\n",
    "df_dist"
   ]
  },
  {
   "cell_type": "code",
   "execution_count": null,
   "metadata": {},
   "outputs": [],
   "source": [
    "df.date_of_reporting.fillna('')\n",
    "\n",
    "for i, row in df.iterrows():\n",
    "    \n",
    "    match = fuzzy_match(district_names, row.district)\n",
    "    \n",
    "    if match[-1] >= 85:\n",
    "        df.at[i, 'district'] = match[0]"
   ]
  },
  {
   "cell_type": "code",
   "execution_count": null,
   "metadata": {},
   "outputs": [],
   "source": [
    "len(list(set(df.district)))"
   ]
  },
  {
   "cell_type": "code",
   "execution_count": null,
   "metadata": {},
   "outputs": [],
   "source": []
  },
  {
   "cell_type": "code",
   "execution_count": null,
   "metadata": {},
   "outputs": [],
   "source": []
  },
  {
   "cell_type": "code",
   "execution_count": null,
   "metadata": {},
   "outputs": [],
   "source": []
  },
  {
   "cell_type": "code",
   "execution_count": null,
   "metadata": {},
   "outputs": [],
   "source": []
  },
  {
   "cell_type": "code",
   "execution_count": null,
   "metadata": {
    "scrolled": true
   },
   "outputs": [],
   "source": [
    "district_matches = []\n",
    "for d in list(set(df.district.dropna())):\n",
    "    district_matches.append((fuzzy_match(district_names, d)[::-1],d))\n",
    "    print(d,'--->',fuzzy_match(district_names, d))"
   ]
  },
  {
   "cell_type": "code",
   "execution_count": null,
   "metadata": {
    "scrolled": true
   },
   "outputs": [],
   "source": [
    "district_matches.sort()\n",
    "district_matches"
   ]
  },
  {
   "cell_type": "code",
   "execution_count": null,
   "metadata": {},
   "outputs": [],
   "source": [
    "[a[0][0] for a in district_matches].index(69)"
   ]
  },
  {
   "cell_type": "code",
   "execution_count": null,
   "metadata": {},
   "outputs": [],
   "source": [
    "plt.figure()\n",
    "plt.ylabel('fuzzy match score')\n",
    "plt.xlabel('record')\n",
    "plt.plot([a[0][0] for a in district_matches])\n",
    "plt.show()"
   ]
  },
  {
   "cell_type": "markdown",
   "metadata": {},
   "source": [
    "## Fuzzy match state + district..."
   ]
  },
  {
   "cell_type": "code",
   "execution_count": null,
   "metadata": {},
   "outputs": [],
   "source": [
    "state_district = []\n",
    "for key in district_state_dict.keys():\n",
    "    state_district.append(' '.join((district_state_dict[key],key)))\n",
    "    \n",
    "state_district.sort()"
   ]
  },
  {
   "cell_type": "code",
   "execution_count": null,
   "metadata": {
    "scrolled": true
   },
   "outputs": [],
   "source": [
    "sd_matches = []\n",
    "for sd in (df.state.ffill() + ' ' + df.district).dropna():\n",
    "    print(sd ,' ----> ',fuzzy_match(state_district, sd))\n",
    "    sd_matches.append((fuzzy_match(state_district, sd)[::-1],sd))\n"
   ]
  },
  {
   "cell_type": "code",
   "execution_count": null,
   "metadata": {},
   "outputs": [],
   "source": [
    "sd_matches.sort()"
   ]
  },
  {
   "cell_type": "code",
   "execution_count": null,
   "metadata": {},
   "outputs": [],
   "source": [
    "sd_matches[[a[0][0] for a in sd_matches].index(100)]"
   ]
  },
  {
   "cell_type": "code",
   "execution_count": null,
   "metadata": {},
   "outputs": [],
   "source": [
    "sd_matches[1600]"
   ]
  },
  {
   "cell_type": "code",
   "execution_count": null,
   "metadata": {},
   "outputs": [],
   "source": [
    "plt.figure()\n",
    "plt.ylabel('fuzzy match score')\n",
    "plt.xlabel('record')\n",
    "plt.plot([a[0][0] for a in sd_matches])\n",
    "plt.show()"
   ]
  },
  {
   "cell_type": "markdown",
   "metadata": {},
   "source": [
    "## Convert to datetime"
   ]
  },
  {
   "cell_type": "code",
   "execution_count": null,
   "metadata": {},
   "outputs": [],
   "source": [
    "df.columns"
   ]
  },
  {
   "cell_type": "code",
   "execution_count": null,
   "metadata": {},
   "outputs": [],
   "source": [
    "from dateutil.parser import parse"
   ]
  },
  {
   "cell_type": "code",
   "execution_count": null,
   "metadata": {},
   "outputs": [],
   "source": [
    "df['date_of_start_of_outbreak'].dropna().iloc[545]"
   ]
  },
  {
   "cell_type": "markdown",
   "metadata": {},
   "source": [
    "Here we use a regex to extract pairs of digits. Followed by a pd.to_datetime call with coersion to return nan for invalid input"
   ]
  },
  {
   "cell_type": "code",
   "execution_count": null,
   "metadata": {},
   "outputs": [],
   "source": [
    "df['date_of_start_of_outbreak'] = pd.to_datetime(\n",
    "    df['date_of_start_of_outbreak'].dropna().apply(\n",
    "        lambda x:'-'.join(re.findall(\"\\d{2}|\\d{4}\",x))\n",
    "    ),\n",
    "    errors='coerce'\n",
    ")"
   ]
  },
  {
   "cell_type": "code",
   "execution_count": null,
   "metadata": {},
   "outputs": [],
   "source": [
    "df.date_of_start_of_outbreak"
   ]
  },
  {
   "cell_type": "markdown",
   "metadata": {},
   "source": [
    "## Split case/death column to cases | deaths\n",
    "\n",
    "Try to split num_cases by / if possible, put first value to num_cases and second to num_deaths, shifting cells right to put dates in their correct columns"
   ]
  },
  {
   "cell_type": "code",
   "execution_count": null,
   "metadata": {},
   "outputs": [],
   "source": [
    "df.date_of_reporting.fillna('')\n",
    "\n",
    "for i, row in df.iterrows():\n",
    "    try:\n",
    "        # split cases / deaths column\n",
    "        # use regex to extract digits\n",
    "#         cases, deaths = row.num_cases.split('/')\n",
    "        cases, deaths = re.findall('\\d+',row.num_cases)\n",
    "        # shuffle right dates to correct columns\n",
    "        date_outbreak = row.num_deaths\n",
    "        date_reporting = row.date_of_start_of_outbreak\n",
    "\n",
    "        for j, var in enumerate(['num_cases',\n",
    "                    'num_deaths',\n",
    "                    'date_of_start_of_outbreak',\n",
    "                    'date_of_reporting'\n",
    "                   ]):\n",
    "            df.at[i,var] = [int(cases),int(deaths),date_outbreak,date_reporting][j]\n",
    "    except:\n",
    "        pass\n",
    "\n",
    "print(df.num_cases)"
   ]
  },
  {
   "cell_type": "code",
   "execution_count": null,
   "metadata": {},
   "outputs": [],
   "source": [
    "def extract_digits(x):\n",
    "    try:\n",
    "        return re.findall('\\d+',x)[0]\n",
    "    except:\n",
    "        return x\n",
    "\n",
    "df.num_cases = df.num_cases.apply(extract_digits)\n",
    "df[['num_cases','num_deaths']] = df[['num_cases','num_deaths']].apply(lambda x:pd.to_numeric(x,errors='coerce')).dropna()\n"
   ]
  },
  {
   "cell_type": "markdown",
   "metadata": {},
   "source": [
    "## Cast to numeric data\n",
    "\n",
    "First get rid of the text data in the numeric columns of cases, deaths."
   ]
  },
  {
   "cell_type": "code",
   "execution_count": null,
   "metadata": {},
   "outputs": [],
   "source": [
    "df.num_cases.values"
   ]
  },
  {
   "cell_type": "code",
   "execution_count": null,
   "metadata": {},
   "outputs": [],
   "source": [
    "def to_numeric_soft(x,y):\n",
    "    # take a column in dataframe, find all digits\n",
    "    # convert the column to numeric datatype and return\n",
    "    return pd.to_numeric(x[y].apply(lambda x:re.findall('\\d*',str(x))[0]))"
   ]
  },
  {
   "cell_type": "code",
   "execution_count": null,
   "metadata": {},
   "outputs": [],
   "source": [
    "df.num_cases = to_numeric_soft(df,'num_cases')\n",
    "df.num_deaths = to_numeric_soft(df,'num_deaths')"
   ]
  },
  {
   "cell_type": "markdown",
   "metadata": {},
   "source": [
    "Now we can look at the total cases and deaths from Cholera in out dataset."
   ]
  },
  {
   "cell_type": "code",
   "execution_count": null,
   "metadata": {},
   "outputs": [],
   "source": [
    "total_cases, total_deaths = df[df.disease_illness == 'Cholera'].sum(axis=0)[['num_cases','num_deaths']].values\n",
    "print(f'Total cases = {total_cases},\\ndeaths = {total_deaths},\\nmortality rate = {total_deaths/total_cases*100} %')"
   ]
  },
  {
   "cell_type": "code",
   "execution_count": null,
   "metadata": {},
   "outputs": [],
   "source": [
    "df.to_csv('idsp_database_v1.1.csv')"
   ]
  },
  {
   "cell_type": "markdown",
   "metadata": {},
   "source": [
    "## Adding the geospatial element\n",
    "\n",
    "There are a few ways we can connect the outbreak data with the region map of India."
   ]
  },
  {
   "cell_type": "markdown",
   "metadata": {},
   "source": [
    "IND_3 is a geopandas, geodataframe which has shape file geometry for the administrative regions of India. As per the following convention,\n",
    "\n",
    " * NAME_1 is the state\n",
    " * NAME_2 is the district\n",
    " * NAME_3 is the city\n"
   ]
  },
  {
   "cell_type": "code",
   "execution_count": null,
   "metadata": {},
   "outputs": [],
   "source": [
    "IND_2"
   ]
  },
  {
   "cell_type": "markdown",
   "metadata": {},
   "source": [
    "Most of the data columns in the IND_2 geodataframe are not populated and therefore not helpful.\n",
    "\n",
    "## Quick plot"
   ]
  },
  {
   "cell_type": "code",
   "execution_count": null,
   "metadata": {},
   "outputs": [],
   "source": [
    "IND_2.plot()"
   ]
  },
  {
   "cell_type": "markdown",
   "metadata": {},
   "source": [
    "The two data frames can be merged using the dataframe method `.merge()`. By merging the two, we can attach the shape file for the district to the outbreaks in that district.\n",
    "\n",
    "In this case we are interested in the _state_ and _district_ columns because that is the highest resolution the outbreak dataframe has. State must be included because some districts share the same name but are located in different states."
   ]
  },
  {
   "cell_type": "markdown",
   "metadata": {},
   "source": [
    "To do this _NAME\\_1_ and _NAME\\_2_ are renamded to _state_ and _district_ for compatibility with the outbreak dataframe. Next the multiple level 3 (settlements) data is removed. The dissolve method deals with multiple rows with the same district, keeping the geometry of the first row with a given district."
   ]
  },
  {
   "cell_type": "code",
   "execution_count": null,
   "metadata": {},
   "outputs": [],
   "source": [
    "district_locations = IND_2[['NAME_1','NAME_2','geometry']]\\\n",
    "                    .rename(columns={'NAME_1':'state','NAME_2':'district'})\\\n",
    "                    .dissolve(by=['state','district'],aggfunc='first')\n",
    "district_locations"
   ]
  },
  {
   "cell_type": "markdown",
   "metadata": {},
   "source": [
    "This geodataframe contains the unique names and geometry for each district in India. Now it must be merged with the outbreak data along the state and district columns"
   ]
  },
  {
   "cell_type": "markdown",
   "metadata": {},
   "source": [
    "## Plot a random district and label it"
   ]
  },
  {
   "cell_type": "markdown",
   "metadata": {},
   "source": [
    "To plot the districts themselves we can use `gpd.plotting.plot_dataframe()`."
   ]
  },
  {
   "cell_type": "code",
   "execution_count": null,
   "metadata": {},
   "outputs": [],
   "source": [
    "fig, ax = plt.subplots()\n",
    "\n",
    "# choose a district at random\n",
    "district = random.choice(district_locations.index)\n",
    "\n",
    "gpd.plotting.plot_dataframe(district_locations,\n",
    "                            ax=ax,\n",
    "                           )\n",
    "gpd.plotting.plot_polygon_collection(ax, district_locations.loc[[district],'geometry'],\n",
    "                                     color='red'\n",
    "                                    )\n",
    "\n",
    "# district_locations.loc[[district]].centroid\n",
    "plt.annotate(s=district, xy=(district_locations.loc[[district]].centroid.x,\n",
    "                             district_locations.loc[[district]].centroid.y\n",
    "                            )\n",
    "            )\n",
    "\n",
    "plt.show()"
   ]
  },
  {
   "cell_type": "markdown",
   "metadata": {},
   "source": [
    "# Merge outbreaks with geospatial data on state and district columns"
   ]
  },
  {
   "cell_type": "code",
   "execution_count": null,
   "metadata": {},
   "outputs": [],
   "source": [
    "master = district_locations.merge(outbreaks,on=['state','district'])"
   ]
  },
  {
   "cell_type": "markdown",
   "metadata": {},
   "source": [
    "save to file for later use"
   ]
  },
  {
   "cell_type": "code",
   "execution_count": null,
   "metadata": {},
   "outputs": [],
   "source": [
    "pwd"
   ]
  },
  {
   "cell_type": "code",
   "execution_count": null,
   "metadata": {},
   "outputs": [],
   "source": [
    "master.to_file(\"IND_outbreaks.shp\")"
   ]
  },
  {
   "cell_type": "markdown",
   "metadata": {},
   "source": [
    "# Combination of data sets to map outbreaks"
   ]
  },
  {
   "cell_type": "markdown",
   "metadata": {},
   "source": [
    "## Plot Cholera outbreaks"
   ]
  },
  {
   "cell_type": "markdown",
   "metadata": {},
   "source": [
    "Lets plot the total cholera outbreaks. To do this we select the outbreaks that are cholera. Then take only the district and cases field before merging with the district locations. Now we have a composite dataframe that can make "
   ]
  },
  {
   "cell_type": "markdown",
   "metadata": {},
   "source": [
    "First lets figure out the total number of cholera cases"
   ]
  },
  {
   "cell_type": "code",
   "execution_count": null,
   "metadata": {},
   "outputs": [],
   "source": [
    "outbreaks.cases = pd.to_numeric(outbreaks.cases,errors='coerce')\n",
    "outbreaks[outbreaks.disease == 'Cholera'].cases.dropna().sum()"
   ]
  },
  {
   "cell_type": "markdown",
   "metadata": {},
   "source": [
    "The district locations are ready to be merged with the outbreak data. In this case we just need the number of cholera cases so we select those before merging. That gives a consise geodataframe. Note that the geodataframe should be the one calling the merge() method, otherwise the result will be a normal dataframe, and loose its geo prefix and special abilities. This can be rectified it is just not quite so pleasing."
   ]
  },
  {
   "cell_type": "code",
   "execution_count": null,
   "metadata": {},
   "outputs": [],
   "source": [
    "composite = district_locations.merge(\n",
    "    outbreaks[outbreaks['disease'] == 'Cholera'][['state','district','cases']],\n",
    "    on=['state','district']\n",
    ")\n",
    "print(type(composite))"
   ]
  },
  {
   "cell_type": "markdown",
   "metadata": {},
   "source": [
    "drop nan values and aggregate using .dissolve(). This gives us a single row for each district that contains the geometry and number of cases of cholera only."
   ]
  },
  {
   "cell_type": "code",
   "execution_count": null,
   "metadata": {},
   "outputs": [],
   "source": [
    "cholera_district_cases = composite.dropna().dissolve(by=['state','district'],aggfunc='sum')\n",
    "print(type(cholera_district_cases))\n",
    "print(cholera_district_cases.sum())"
   ]
  },
  {
   "cell_type": "code",
   "execution_count": null,
   "metadata": {
    "scrolled": false
   },
   "outputs": [],
   "source": [
    "fig, ax = plt.subplots(figsize=(5,5),dpi=150)\n",
    "\n",
    "IND_2.plot(ax=ax,\n",
    "           color='white',\n",
    "           edgecolor='black',\n",
    "           alpha=1,\n",
    "           linewidth=0.05,\n",
    "          )\n",
    "\n",
    "cholera_district_cases.plot(column = 'cases',\n",
    "                            cmap='Reds',\n",
    "                            ax=ax,\n",
    "                            legend=True,\n",
    "#                             norm=SymLogNorm(1),\n",
    "                           )\n",
    "\n",
    "plt.title('Cholera cases 2009-present')\n",
    "\n",
    "# label the 3 most infected districts\n",
    "for index in cholera_district_cases.nlargest(3,columns='cases').index:\n",
    "    gpd.plotting.plot_point_collection(ax,\n",
    "                                       cholera_district_cases.loc[[index]].centroid,\n",
    "#                                        color='black',\n",
    "                                       marker='+',\n",
    "                                       label=\" \".join(index)+\": \"+str(cholera_district_cases.loc[[index]].cases.sum())\n",
    "                                      )\n",
    "    \n",
    "#     plt.annotate(s= \" \".join(index),\n",
    "#                  xy=(cholera_district_cases.loc[[index]].centroid.x,\n",
    "#                      cholera_district_cases.loc[[index]].centroid.y),\n",
    "#                  horizontalalignment='left',\n",
    "#                  verticalalignment='bottom'\n",
    "#                 )\n",
    "\n",
    "# get the total bounding box\n",
    "x0,y0,x1,y1 = cholera_district_cases.total_bounds\n",
    "\n",
    "# display total cases as an inset\n",
    "plt.text(x0 + 1  * (x1-x0),\n",
    "         y0 + 1  * (y1-y0),\n",
    "         'total cases = '+str(int(cholera_district_cases.cases.sum())),\n",
    "         horizontalalignment='right',\n",
    "        )\n",
    "\n",
    "plt.legend(loc=4)\n",
    "\n",
    "plt.tight_layout()\n",
    "\n",
    "plt.show()"
   ]
  },
  {
   "cell_type": "markdown",
   "metadata": {},
   "source": [
    "Heatmap showing total Cholera cases by district from 2009 - present. The results with later version of the data analysis code seems to produce wildly different results. Which isn't reassuring. A ground truth metric against which the data can be compared would be very useful!"
   ]
  },
  {
   "cell_type": "markdown",
   "metadata": {},
   "source": [
    "At this point we have some informative data. However it should be noted that this representation shows the total number of outbreaks by district. The districts themselves are not equal and this graphic shows neither the spatial density of cholera nor the infection rate."
   ]
  },
  {
   "cell_type": "code",
   "execution_count": null,
   "metadata": {},
   "outputs": [],
   "source": [
    "cholera_state_cases = cholera_district_cases.dissolve(by='state',aggfunc='sum')"
   ]
  },
  {
   "cell_type": "code",
   "execution_count": null,
   "metadata": {},
   "outputs": [],
   "source": [
    "cholera_state_cases"
   ]
  },
  {
   "cell_type": "code",
   "execution_count": null,
   "metadata": {},
   "outputs": [],
   "source": []
  }
 ],
 "metadata": {
  "kernelspec": {
   "display_name": "Python 3",
   "language": "python",
   "name": "python3"
  },
  "language_info": {
   "codemirror_mode": {
    "name": "ipython",
    "version": 3
   },
   "file_extension": ".py",
   "mimetype": "text/x-python",
   "name": "python",
   "nbconvert_exporter": "python",
   "pygments_lexer": "ipython3",
   "version": "3.7.6"
  }
 },
 "nbformat": 4,
 "nbformat_minor": 2
}
